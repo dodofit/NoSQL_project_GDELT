{
 "cells": [
  {
   "cell_type": "code",
   "execution_count": 8,
   "metadata": {
    "collapsed": true
   },
   "outputs": [],
   "source": [
    "import pandas as pd\n",
    "import zipfile\n",
    "import shutil"
   ]
  },
  {
   "cell_type": "code",
   "execution_count": 5,
   "outputs": [
    {
     "name": "stderr",
     "output_type": "stream",
     "text": [
      "/var/folders/h9/3f0fc1qs2t3943x127_ynxmc0000gn/T/ipykernel_59552/1156648321.py:1: DtypeWarning: Columns (0) have mixed types. Specify dtype option on import or set low_memory=False.\n",
      "  df = pd.read_csv('http://data.gdeltproject.org/gdeltv2/masterfilelist.txt', delimiter=' ', header=None)\n"
     ]
    }
   ],
   "source": [
    "df = pd.read_csv('http://data.gdeltproject.org/gdeltv2/masterfilelist.txt', delimiter=' ', header=None)\n"
   ],
   "metadata": {
    "collapsed": false
   }
  },
  {
   "cell_type": "code",
   "execution_count": 10,
   "outputs": [],
   "source": [
    "extr_dir = '/Users/dorianfitton/Documents/Cours_Télécom/NoSQL_project_GDELT/data'"
   ],
   "metadata": {
    "collapsed": false
   }
  },
  {
   "cell_type": "code",
   "execution_count": 6,
   "outputs": [
    {
     "data": {
      "text/plain": "               0                                 1  \\\n0         150383  297a16b493de7cf6ca809a7cc31d0b93   \n1         318084  bb27f78ba45f69a17ea6ed7755e9f8ff   \n2       10768507  ea8dde0beb0ba98810a92db068c0ce99   \n3         149211  2a91041d7e72b0fc6a629e2ff867b240   \n4         339037  dec3f427076b716a8112b9086c342523   \n...          ...                               ...   \n814765     76921  de39e45053d672c57797a840560a448a   \n814766   4546104  1eb4972bca285c939c2ae281c009d1c8   \n814767     71916  162d09f25a2a358865b0e20ad1b0952a   \n814768     99075  1ca636e8d6e47f2394a974d6652a56b3   \n814769   4271810  07510cd8f90bdb7a94267976c7a95774   \n\n                                                        2  \n0       http://data.gdeltproject.org/gdeltv2/201502182...  \n1       http://data.gdeltproject.org/gdeltv2/201502182...  \n2       http://data.gdeltproject.org/gdeltv2/201502182...  \n3       http://data.gdeltproject.org/gdeltv2/201502182...  \n4       http://data.gdeltproject.org/gdeltv2/201502182...  \n...                                                   ...  \n814765  http://data.gdeltproject.org/gdeltv2/202301131...  \n814766  http://data.gdeltproject.org/gdeltv2/202301131...  \n814767  http://data.gdeltproject.org/gdeltv2/202301131...  \n814768  http://data.gdeltproject.org/gdeltv2/202301131...  \n814769  http://data.gdeltproject.org/gdeltv2/202301131...  \n\n[814770 rows x 3 columns]",
      "text/html": "<div>\n<style scoped>\n    .dataframe tbody tr th:only-of-type {\n        vertical-align: middle;\n    }\n\n    .dataframe tbody tr th {\n        vertical-align: top;\n    }\n\n    .dataframe thead th {\n        text-align: right;\n    }\n</style>\n<table border=\"1\" class=\"dataframe\">\n  <thead>\n    <tr style=\"text-align: right;\">\n      <th></th>\n      <th>0</th>\n      <th>1</th>\n      <th>2</th>\n    </tr>\n  </thead>\n  <tbody>\n    <tr>\n      <th>0</th>\n      <td>150383</td>\n      <td>297a16b493de7cf6ca809a7cc31d0b93</td>\n      <td>http://data.gdeltproject.org/gdeltv2/201502182...</td>\n    </tr>\n    <tr>\n      <th>1</th>\n      <td>318084</td>\n      <td>bb27f78ba45f69a17ea6ed7755e9f8ff</td>\n      <td>http://data.gdeltproject.org/gdeltv2/201502182...</td>\n    </tr>\n    <tr>\n      <th>2</th>\n      <td>10768507</td>\n      <td>ea8dde0beb0ba98810a92db068c0ce99</td>\n      <td>http://data.gdeltproject.org/gdeltv2/201502182...</td>\n    </tr>\n    <tr>\n      <th>3</th>\n      <td>149211</td>\n      <td>2a91041d7e72b0fc6a629e2ff867b240</td>\n      <td>http://data.gdeltproject.org/gdeltv2/201502182...</td>\n    </tr>\n    <tr>\n      <th>4</th>\n      <td>339037</td>\n      <td>dec3f427076b716a8112b9086c342523</td>\n      <td>http://data.gdeltproject.org/gdeltv2/201502182...</td>\n    </tr>\n    <tr>\n      <th>...</th>\n      <td>...</td>\n      <td>...</td>\n      <td>...</td>\n    </tr>\n    <tr>\n      <th>814765</th>\n      <td>76921</td>\n      <td>de39e45053d672c57797a840560a448a</td>\n      <td>http://data.gdeltproject.org/gdeltv2/202301131...</td>\n    </tr>\n    <tr>\n      <th>814766</th>\n      <td>4546104</td>\n      <td>1eb4972bca285c939c2ae281c009d1c8</td>\n      <td>http://data.gdeltproject.org/gdeltv2/202301131...</td>\n    </tr>\n    <tr>\n      <th>814767</th>\n      <td>71916</td>\n      <td>162d09f25a2a358865b0e20ad1b0952a</td>\n      <td>http://data.gdeltproject.org/gdeltv2/202301131...</td>\n    </tr>\n    <tr>\n      <th>814768</th>\n      <td>99075</td>\n      <td>1ca636e8d6e47f2394a974d6652a56b3</td>\n      <td>http://data.gdeltproject.org/gdeltv2/202301131...</td>\n    </tr>\n    <tr>\n      <th>814769</th>\n      <td>4271810</td>\n      <td>07510cd8f90bdb7a94267976c7a95774</td>\n      <td>http://data.gdeltproject.org/gdeltv2/202301131...</td>\n    </tr>\n  </tbody>\n</table>\n<p>814770 rows × 3 columns</p>\n</div>"
     },
     "execution_count": 6,
     "metadata": {},
     "output_type": "execute_result"
    }
   ],
   "source": [
    "df"
   ],
   "metadata": {
    "collapsed": false
   }
  },
  {
   "cell_type": "code",
   "execution_count": 11,
   "outputs": [
    {
     "ename": "ReadError",
     "evalue": "http://data.gdeltproject.org/gdeltv2/20150218230000.export.CSV.zip is not a zip file",
     "output_type": "error",
     "traceback": [
      "\u001B[0;31m---------------------------------------------------------------------------\u001B[0m",
      "\u001B[0;31mReadError\u001B[0m                                 Traceback (most recent call last)",
      "Input \u001B[0;32mIn [11]\u001B[0m, in \u001B[0;36m<cell line: 1>\u001B[0;34m()\u001B[0m\n\u001B[0;32m----> 1\u001B[0m \u001B[43mshutil\u001B[49m\u001B[38;5;241;43m.\u001B[39;49m\u001B[43munpack_archive\u001B[49m\u001B[43m(\u001B[49m\u001B[43mdf\u001B[49m\u001B[43m[\u001B[49m\u001B[38;5;241;43m2\u001B[39;49m\u001B[43m]\u001B[49m\u001B[43m[\u001B[49m\u001B[38;5;241;43m0\u001B[39;49m\u001B[43m]\u001B[49m\u001B[43m,\u001B[49m\u001B[43m \u001B[49m\u001B[43mextr_dir\u001B[49m\u001B[43m)\u001B[49m\n",
      "File \u001B[0;32m~/opt/anaconda3/envs/bgd/lib/python3.10/shutil.py:1271\u001B[0m, in \u001B[0;36munpack_archive\u001B[0;34m(filename, extract_dir, format)\u001B[0m\n\u001B[1;32m   1269\u001B[0m func \u001B[38;5;241m=\u001B[39m _UNPACK_FORMATS[\u001B[38;5;28mformat\u001B[39m][\u001B[38;5;241m1\u001B[39m]\n\u001B[1;32m   1270\u001B[0m kwargs \u001B[38;5;241m=\u001B[39m \u001B[38;5;28mdict\u001B[39m(_UNPACK_FORMATS[\u001B[38;5;28mformat\u001B[39m][\u001B[38;5;241m2\u001B[39m])\n\u001B[0;32m-> 1271\u001B[0m \u001B[43mfunc\u001B[49m\u001B[43m(\u001B[49m\u001B[43mfilename\u001B[49m\u001B[43m,\u001B[49m\u001B[43m \u001B[49m\u001B[43mextract_dir\u001B[49m\u001B[43m,\u001B[49m\u001B[43m \u001B[49m\u001B[38;5;241;43m*\u001B[39;49m\u001B[38;5;241;43m*\u001B[39;49m\u001B[43mkwargs\u001B[49m\u001B[43m)\u001B[49m\n",
      "File \u001B[0;32m~/opt/anaconda3/envs/bgd/lib/python3.10/shutil.py:1170\u001B[0m, in \u001B[0;36m_unpack_zipfile\u001B[0;34m(filename, extract_dir)\u001B[0m\n\u001B[1;32m   1167\u001B[0m \u001B[38;5;28;01mimport\u001B[39;00m \u001B[38;5;21;01mzipfile\u001B[39;00m  \u001B[38;5;66;03m# late import for breaking circular dependency\u001B[39;00m\n\u001B[1;32m   1169\u001B[0m \u001B[38;5;28;01mif\u001B[39;00m \u001B[38;5;129;01mnot\u001B[39;00m zipfile\u001B[38;5;241m.\u001B[39mis_zipfile(filename):\n\u001B[0;32m-> 1170\u001B[0m     \u001B[38;5;28;01mraise\u001B[39;00m ReadError(\u001B[38;5;124m\"\u001B[39m\u001B[38;5;132;01m%s\u001B[39;00m\u001B[38;5;124m is not a zip file\u001B[39m\u001B[38;5;124m\"\u001B[39m \u001B[38;5;241m%\u001B[39m filename)\n\u001B[1;32m   1172\u001B[0m \u001B[38;5;28mzip\u001B[39m \u001B[38;5;241m=\u001B[39m zipfile\u001B[38;5;241m.\u001B[39mZipFile(filename)\n\u001B[1;32m   1173\u001B[0m \u001B[38;5;28;01mtry\u001B[39;00m:\n",
      "\u001B[0;31mReadError\u001B[0m: http://data.gdeltproject.org/gdeltv2/20150218230000.export.CSV.zip is not a zip file"
     ]
    }
   ],
   "source": [
    "\n",
    "shutil.unpack_archive(df[2][0], extr_dir)"
   ],
   "metadata": {
    "collapsed": false
   }
  },
  {
   "cell_type": "code",
   "execution_count": null,
   "outputs": [],
   "source": [],
   "metadata": {
    "collapsed": false
   }
  }
 ],
 "metadata": {
  "kernelspec": {
   "display_name": "Python 3",
   "language": "python",
   "name": "python3"
  },
  "language_info": {
   "codemirror_mode": {
    "name": "ipython",
    "version": 2
   },
   "file_extension": ".py",
   "mimetype": "text/x-python",
   "name": "python",
   "nbconvert_exporter": "python",
   "pygments_lexer": "ipython2",
   "version": "2.7.6"
  }
 },
 "nbformat": 4,
 "nbformat_minor": 0
}
