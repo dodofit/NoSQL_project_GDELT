{
 "cells": [
  {
   "cell_type": "code",
   "execution_count": 1,
   "metadata": {
    "collapsed": true
   },
   "outputs": [],
   "source": [
    "import pandas as pd\n",
    "import zipfile\n",
    "import shutil\n",
    "import wget"
   ]
  },
  {
   "cell_type": "code",
   "execution_count": null,
   "outputs": [],
   "source": [
    "df = pd.read_csv('http://data.gdeltproject.org/gdeltv2/masterfilelist.txt', delimiter=' ', header=None)"
   ],
   "metadata": {
    "collapsed": false,
    "pycharm": {
     "is_executing": true
    }
   }
  },
  {
   "cell_type": "code",
   "execution_count": null,
   "outputs": [],
   "source": [
    "df_multil = pd.read_csv('http://data.gdeltproject.org/gdeltv2/masterfilelist-translation.txt', delimiter=' ', header=None)"
   ],
   "metadata": {
    "collapsed": false,
    "pycharm": {
     "is_executing": true
    }
   }
  },
  {
   "cell_type": "code",
   "execution_count": 6,
   "outputs": [],
   "source": [
    "extr_dir = '/Users/dorianfitton/Documents/Cours_Télécom/NoSQL_project_GDELT/explo/dorian/data'"
   ],
   "metadata": {
    "collapsed": false
   }
  },
  {
   "cell_type": "code",
   "execution_count": 6,
   "outputs": [
    {
     "data": {
      "text/plain": "               0                                 1  \\\n0         150383  297a16b493de7cf6ca809a7cc31d0b93   \n1         318084  bb27f78ba45f69a17ea6ed7755e9f8ff   \n2       10768507  ea8dde0beb0ba98810a92db068c0ce99   \n3         149211  2a91041d7e72b0fc6a629e2ff867b240   \n4         339037  dec3f427076b716a8112b9086c342523   \n...          ...                               ...   \n814765     76921  de39e45053d672c57797a840560a448a   \n814766   4546104  1eb4972bca285c939c2ae281c009d1c8   \n814767     71916  162d09f25a2a358865b0e20ad1b0952a   \n814768     99075  1ca636e8d6e47f2394a974d6652a56b3   \n814769   4271810  07510cd8f90bdb7a94267976c7a95774   \n\n                                                        2  \n0       http://data.gdeltproject.org/gdeltv2/201502182...  \n1       http://data.gdeltproject.org/gdeltv2/201502182...  \n2       http://data.gdeltproject.org/gdeltv2/201502182...  \n3       http://data.gdeltproject.org/gdeltv2/201502182...  \n4       http://data.gdeltproject.org/gdeltv2/201502182...  \n...                                                   ...  \n814765  http://data.gdeltproject.org/gdeltv2/202301131...  \n814766  http://data.gdeltproject.org/gdeltv2/202301131...  \n814767  http://data.gdeltproject.org/gdeltv2/202301131...  \n814768  http://data.gdeltproject.org/gdeltv2/202301131...  \n814769  http://data.gdeltproject.org/gdeltv2/202301131...  \n\n[814770 rows x 3 columns]",
      "text/html": "<div>\n<style scoped>\n    .dataframe tbody tr th:only-of-type {\n        vertical-align: middle;\n    }\n\n    .dataframe tbody tr th {\n        vertical-align: top;\n    }\n\n    .dataframe thead th {\n        text-align: right;\n    }\n</style>\n<table border=\"1\" class=\"dataframe\">\n  <thead>\n    <tr style=\"text-align: right;\">\n      <th></th>\n      <th>0</th>\n      <th>1</th>\n      <th>2</th>\n    </tr>\n  </thead>\n  <tbody>\n    <tr>\n      <th>0</th>\n      <td>150383</td>\n      <td>297a16b493de7cf6ca809a7cc31d0b93</td>\n      <td>http://data.gdeltproject.org/gdeltv2/201502182...</td>\n    </tr>\n    <tr>\n      <th>1</th>\n      <td>318084</td>\n      <td>bb27f78ba45f69a17ea6ed7755e9f8ff</td>\n      <td>http://data.gdeltproject.org/gdeltv2/201502182...</td>\n    </tr>\n    <tr>\n      <th>2</th>\n      <td>10768507</td>\n      <td>ea8dde0beb0ba98810a92db068c0ce99</td>\n      <td>http://data.gdeltproject.org/gdeltv2/201502182...</td>\n    </tr>\n    <tr>\n      <th>3</th>\n      <td>149211</td>\n      <td>2a91041d7e72b0fc6a629e2ff867b240</td>\n      <td>http://data.gdeltproject.org/gdeltv2/201502182...</td>\n    </tr>\n    <tr>\n      <th>4</th>\n      <td>339037</td>\n      <td>dec3f427076b716a8112b9086c342523</td>\n      <td>http://data.gdeltproject.org/gdeltv2/201502182...</td>\n    </tr>\n    <tr>\n      <th>...</th>\n      <td>...</td>\n      <td>...</td>\n      <td>...</td>\n    </tr>\n    <tr>\n      <th>814765</th>\n      <td>76921</td>\n      <td>de39e45053d672c57797a840560a448a</td>\n      <td>http://data.gdeltproject.org/gdeltv2/202301131...</td>\n    </tr>\n    <tr>\n      <th>814766</th>\n      <td>4546104</td>\n      <td>1eb4972bca285c939c2ae281c009d1c8</td>\n      <td>http://data.gdeltproject.org/gdeltv2/202301131...</td>\n    </tr>\n    <tr>\n      <th>814767</th>\n      <td>71916</td>\n      <td>162d09f25a2a358865b0e20ad1b0952a</td>\n      <td>http://data.gdeltproject.org/gdeltv2/202301131...</td>\n    </tr>\n    <tr>\n      <th>814768</th>\n      <td>99075</td>\n      <td>1ca636e8d6e47f2394a974d6652a56b3</td>\n      <td>http://data.gdeltproject.org/gdeltv2/202301131...</td>\n    </tr>\n    <tr>\n      <th>814769</th>\n      <td>4271810</td>\n      <td>07510cd8f90bdb7a94267976c7a95774</td>\n      <td>http://data.gdeltproject.org/gdeltv2/202301131...</td>\n    </tr>\n  </tbody>\n</table>\n<p>814770 rows × 3 columns</p>\n</div>"
     },
     "execution_count": 6,
     "metadata": {},
     "output_type": "execute_result"
    }
   ],
   "source": [
    "df"
   ],
   "metadata": {
    "collapsed": false
   }
  },
  {
   "cell_type": "code",
   "execution_count": 7,
   "outputs": [],
   "source": [
    "data = wget.download(df[2][0])\n",
    "shutil.unpack_archive(data, extr_dir)"
   ],
   "metadata": {
    "collapsed": false
   }
  },
  {
   "cell_type": "code",
   "execution_count": 11,
   "outputs": [],
   "source": [
    "with zipfile.ZipFile(data,\"r\") as zip_ref:\n",
    "    zip_ref.extractall(extr_dir)"
   ],
   "metadata": {
    "collapsed": false
   }
  },
  {
   "cell_type": "code",
   "execution_count": null,
   "outputs": [],
   "source": [],
   "metadata": {
    "collapsed": false
   }
  },
  {
   "cell_type": "code",
   "execution_count": 13,
   "outputs": [],
   "source": [
    "sample = pd.read_csv('/Users/dorianfitton/Documents/Cours_Télécom/NoSQL_project_GDELT/explo/dorian/data/20150218230000.export.CSV', delimiter=\"\\t\", )"
   ],
   "metadata": {
    "collapsed": false
   }
  },
  {
   "cell_type": "code",
   "execution_count": 14,
   "outputs": [
    {
     "data": {
      "text/plain": "      410412347  20140218  201402  2014  2014.1315 Unnamed: 5 Unnamed: 6  \\\n0     410412348  20140218  201402  2014  2014.1315        NaN        NaN   \n1     410412349  20140218  201402  2014  2014.1315        NaN        NaN   \n2     410412350  20140218  201402  2014  2014.1315        NaN        NaN   \n3     410412351  20140218  201402  2014  2014.1315        NaN        NaN   \n4     410412352  20140218  201402  2014  2014.1315        AUS  AUSTRALIA   \n...         ...       ...     ...   ...        ...        ...        ...   \n2265  410414613  20150218  201502  2015  2015.1315        ran       RANA   \n2266  410414614  20150218  201502  2015  2015.1315        ran       RANA   \n2267  410414615  20150218  201502  2015  2015.1315        ran       RANA   \n2268  410414616  20150218  201502  2015  2015.1315        ran       RANA   \n2269  410414617  20150218  201502  2015  2015.1315        tib    TIBETAN   \n\n     Unnamed: 7 Unnamed: 8 Unnamed: 9  ... 4.1  \\\n0           NaN        NaN        NaN  ...   4   \n1           NaN        NaN        NaN  ...   4   \n2           NaN        NaN        NaN  ...   1   \n3           NaN        NaN        NaN  ...   2   \n4           AUS        NaN        NaN  ...   4   \n...         ...        ...        ...  ...  ..   \n2265        NaN        NaN        ran  ...   4   \n2266        NaN        NaN        ran  ...   4   \n2267        NaN        NaN        ran  ...   4   \n2268        NaN        NaN        ran  ...   4   \n2269        NaN        NaN        tib  ...   4   \n\n     Waterkloof, Free State, South Africa.1 SF.1 SF03.1 77359.1 -30.3098.1  \\\n0               Bengaluru, Karnataka, India   IN   IN19   70159    12.9833   \n1       Great Southern, Victoria, Australia   AS   AS07    5387   -36.0667   \n2                               New Zealand   NZ     NZ     NaN   -41.0000   \n3                      Idaho, United States   US   USID     NaN    44.2394   \n4           Brisbane, Queensland, Australia   AS   AS04  154654   -27.5000   \n...                                     ...  ...    ...     ...        ...   \n2265         Islamabad, Islamabad, Pakistan   PK   PK08   23674    33.7000   \n2266   Agha Muhammad, Balochistan, Pakistan   PK   PK02    3606    30.5699   \n2267         Islamabad, Islamabad, Pakistan   PK   PK08   23674    33.7000   \n2268   Agha Muhammad, Balochistan, Pakistan   PK   PK02    3606    30.5699   \n2269                    Amdo, Xizang, China   CH   CH14   13213    32.3333   \n\n     25.2971.1 -1299321.1  20150218230000  \\\n0      77.5833   -2090174  20150218230000   \n1     146.4830   -1576477  20150218230000   \n2     174.0000         NZ  20150218230000   \n3    -114.5100         ID  20150218230000   \n4     153.0170   -1561728  20150218230000   \n...        ...        ...             ...   \n2265   73.1667   -2762812  20150218230000   \n2266   66.5961     356668  20150218230000   \n2267   73.1667   -2762812  20150218230000   \n2268   66.5961     356668  20150218230000   \n2269   91.6667   -1920650  20150218230000   \n\n     http://www.dailymaverick.co.za/article/2015-02-19-sona2015-jamming-state-security-agency-steps-forward-blames-low-ranking-operator/  \n0     http://timesofindia.indiatimes.com/city/bengal...                                                                                   \n1     http://www.voxy.co.nz/entertainment/coast-new-...                                                                                   \n2     http://www.voxy.co.nz/entertainment/coast-new-...                                                                                   \n3     http://www.eastidahonews.com/2015/02/neil-patr...                                                                                   \n4     http://www.businessspectator.com.au/article/20...                                                                                   \n...                                                 ...                                                                                   \n2265  http://www.dailytimes.com.pk/national/19-Feb-2...                                                                                   \n2266  http://www.dailytimes.com.pk/national/19-Feb-2...                                                                                   \n2267  http://www.dailytimes.com.pk/national/19-Feb-2...                                                                                   \n2268  http://www.dailytimes.com.pk/national/19-Feb-2...                                                                                   \n2269  http://www.bbg.gov/blog/2015/02/18/rfas-tibeta...                                                                                   \n\n[2270 rows x 61 columns]",
      "text/html": "<div>\n<style scoped>\n    .dataframe tbody tr th:only-of-type {\n        vertical-align: middle;\n    }\n\n    .dataframe tbody tr th {\n        vertical-align: top;\n    }\n\n    .dataframe thead th {\n        text-align: right;\n    }\n</style>\n<table border=\"1\" class=\"dataframe\">\n  <thead>\n    <tr style=\"text-align: right;\">\n      <th></th>\n      <th>410412347</th>\n      <th>20140218</th>\n      <th>201402</th>\n      <th>2014</th>\n      <th>2014.1315</th>\n      <th>Unnamed: 5</th>\n      <th>Unnamed: 6</th>\n      <th>Unnamed: 7</th>\n      <th>Unnamed: 8</th>\n      <th>Unnamed: 9</th>\n      <th>...</th>\n      <th>4.1</th>\n      <th>Waterkloof, Free State, South Africa.1</th>\n      <th>SF.1</th>\n      <th>SF03.1</th>\n      <th>77359.1</th>\n      <th>-30.3098.1</th>\n      <th>25.2971.1</th>\n      <th>-1299321.1</th>\n      <th>20150218230000</th>\n      <th>http://www.dailymaverick.co.za/article/2015-02-19-sona2015-jamming-state-security-agency-steps-forward-blames-low-ranking-operator/</th>\n    </tr>\n  </thead>\n  <tbody>\n    <tr>\n      <th>0</th>\n      <td>410412348</td>\n      <td>20140218</td>\n      <td>201402</td>\n      <td>2014</td>\n      <td>2014.1315</td>\n      <td>NaN</td>\n      <td>NaN</td>\n      <td>NaN</td>\n      <td>NaN</td>\n      <td>NaN</td>\n      <td>...</td>\n      <td>4</td>\n      <td>Bengaluru, Karnataka, India</td>\n      <td>IN</td>\n      <td>IN19</td>\n      <td>70159</td>\n      <td>12.9833</td>\n      <td>77.5833</td>\n      <td>-2090174</td>\n      <td>20150218230000</td>\n      <td>http://timesofindia.indiatimes.com/city/bengal...</td>\n    </tr>\n    <tr>\n      <th>1</th>\n      <td>410412349</td>\n      <td>20140218</td>\n      <td>201402</td>\n      <td>2014</td>\n      <td>2014.1315</td>\n      <td>NaN</td>\n      <td>NaN</td>\n      <td>NaN</td>\n      <td>NaN</td>\n      <td>NaN</td>\n      <td>...</td>\n      <td>4</td>\n      <td>Great Southern, Victoria, Australia</td>\n      <td>AS</td>\n      <td>AS07</td>\n      <td>5387</td>\n      <td>-36.0667</td>\n      <td>146.4830</td>\n      <td>-1576477</td>\n      <td>20150218230000</td>\n      <td>http://www.voxy.co.nz/entertainment/coast-new-...</td>\n    </tr>\n    <tr>\n      <th>2</th>\n      <td>410412350</td>\n      <td>20140218</td>\n      <td>201402</td>\n      <td>2014</td>\n      <td>2014.1315</td>\n      <td>NaN</td>\n      <td>NaN</td>\n      <td>NaN</td>\n      <td>NaN</td>\n      <td>NaN</td>\n      <td>...</td>\n      <td>1</td>\n      <td>New Zealand</td>\n      <td>NZ</td>\n      <td>NZ</td>\n      <td>NaN</td>\n      <td>-41.0000</td>\n      <td>174.0000</td>\n      <td>NZ</td>\n      <td>20150218230000</td>\n      <td>http://www.voxy.co.nz/entertainment/coast-new-...</td>\n    </tr>\n    <tr>\n      <th>3</th>\n      <td>410412351</td>\n      <td>20140218</td>\n      <td>201402</td>\n      <td>2014</td>\n      <td>2014.1315</td>\n      <td>NaN</td>\n      <td>NaN</td>\n      <td>NaN</td>\n      <td>NaN</td>\n      <td>NaN</td>\n      <td>...</td>\n      <td>2</td>\n      <td>Idaho, United States</td>\n      <td>US</td>\n      <td>USID</td>\n      <td>NaN</td>\n      <td>44.2394</td>\n      <td>-114.5100</td>\n      <td>ID</td>\n      <td>20150218230000</td>\n      <td>http://www.eastidahonews.com/2015/02/neil-patr...</td>\n    </tr>\n    <tr>\n      <th>4</th>\n      <td>410412352</td>\n      <td>20140218</td>\n      <td>201402</td>\n      <td>2014</td>\n      <td>2014.1315</td>\n      <td>AUS</td>\n      <td>AUSTRALIA</td>\n      <td>AUS</td>\n      <td>NaN</td>\n      <td>NaN</td>\n      <td>...</td>\n      <td>4</td>\n      <td>Brisbane, Queensland, Australia</td>\n      <td>AS</td>\n      <td>AS04</td>\n      <td>154654</td>\n      <td>-27.5000</td>\n      <td>153.0170</td>\n      <td>-1561728</td>\n      <td>20150218230000</td>\n      <td>http://www.businessspectator.com.au/article/20...</td>\n    </tr>\n    <tr>\n      <th>...</th>\n      <td>...</td>\n      <td>...</td>\n      <td>...</td>\n      <td>...</td>\n      <td>...</td>\n      <td>...</td>\n      <td>...</td>\n      <td>...</td>\n      <td>...</td>\n      <td>...</td>\n      <td>...</td>\n      <td>...</td>\n      <td>...</td>\n      <td>...</td>\n      <td>...</td>\n      <td>...</td>\n      <td>...</td>\n      <td>...</td>\n      <td>...</td>\n      <td>...</td>\n      <td>...</td>\n    </tr>\n    <tr>\n      <th>2265</th>\n      <td>410414613</td>\n      <td>20150218</td>\n      <td>201502</td>\n      <td>2015</td>\n      <td>2015.1315</td>\n      <td>ran</td>\n      <td>RANA</td>\n      <td>NaN</td>\n      <td>NaN</td>\n      <td>ran</td>\n      <td>...</td>\n      <td>4</td>\n      <td>Islamabad, Islamabad, Pakistan</td>\n      <td>PK</td>\n      <td>PK08</td>\n      <td>23674</td>\n      <td>33.7000</td>\n      <td>73.1667</td>\n      <td>-2762812</td>\n      <td>20150218230000</td>\n      <td>http://www.dailytimes.com.pk/national/19-Feb-2...</td>\n    </tr>\n    <tr>\n      <th>2266</th>\n      <td>410414614</td>\n      <td>20150218</td>\n      <td>201502</td>\n      <td>2015</td>\n      <td>2015.1315</td>\n      <td>ran</td>\n      <td>RANA</td>\n      <td>NaN</td>\n      <td>NaN</td>\n      <td>ran</td>\n      <td>...</td>\n      <td>4</td>\n      <td>Agha Muhammad, Balochistan, Pakistan</td>\n      <td>PK</td>\n      <td>PK02</td>\n      <td>3606</td>\n      <td>30.5699</td>\n      <td>66.5961</td>\n      <td>356668</td>\n      <td>20150218230000</td>\n      <td>http://www.dailytimes.com.pk/national/19-Feb-2...</td>\n    </tr>\n    <tr>\n      <th>2267</th>\n      <td>410414615</td>\n      <td>20150218</td>\n      <td>201502</td>\n      <td>2015</td>\n      <td>2015.1315</td>\n      <td>ran</td>\n      <td>RANA</td>\n      <td>NaN</td>\n      <td>NaN</td>\n      <td>ran</td>\n      <td>...</td>\n      <td>4</td>\n      <td>Islamabad, Islamabad, Pakistan</td>\n      <td>PK</td>\n      <td>PK08</td>\n      <td>23674</td>\n      <td>33.7000</td>\n      <td>73.1667</td>\n      <td>-2762812</td>\n      <td>20150218230000</td>\n      <td>http://www.dailytimes.com.pk/national/19-Feb-2...</td>\n    </tr>\n    <tr>\n      <th>2268</th>\n      <td>410414616</td>\n      <td>20150218</td>\n      <td>201502</td>\n      <td>2015</td>\n      <td>2015.1315</td>\n      <td>ran</td>\n      <td>RANA</td>\n      <td>NaN</td>\n      <td>NaN</td>\n      <td>ran</td>\n      <td>...</td>\n      <td>4</td>\n      <td>Agha Muhammad, Balochistan, Pakistan</td>\n      <td>PK</td>\n      <td>PK02</td>\n      <td>3606</td>\n      <td>30.5699</td>\n      <td>66.5961</td>\n      <td>356668</td>\n      <td>20150218230000</td>\n      <td>http://www.dailytimes.com.pk/national/19-Feb-2...</td>\n    </tr>\n    <tr>\n      <th>2269</th>\n      <td>410414617</td>\n      <td>20150218</td>\n      <td>201502</td>\n      <td>2015</td>\n      <td>2015.1315</td>\n      <td>tib</td>\n      <td>TIBETAN</td>\n      <td>NaN</td>\n      <td>NaN</td>\n      <td>tib</td>\n      <td>...</td>\n      <td>4</td>\n      <td>Amdo, Xizang, China</td>\n      <td>CH</td>\n      <td>CH14</td>\n      <td>13213</td>\n      <td>32.3333</td>\n      <td>91.6667</td>\n      <td>-1920650</td>\n      <td>20150218230000</td>\n      <td>http://www.bbg.gov/blog/2015/02/18/rfas-tibeta...</td>\n    </tr>\n  </tbody>\n</table>\n<p>2270 rows × 61 columns</p>\n</div>"
     },
     "execution_count": 14,
     "metadata": {},
     "output_type": "execute_result"
    }
   ],
   "source": [
    "sample"
   ],
   "metadata": {
    "collapsed": false
   }
  },
  {
   "cell_type": "code",
   "execution_count": 15,
   "outputs": [],
   "source": [
    "list_header= ['BALEVENTID','SQLDATE',\t'MonthYear',\t'Year',\t'FractionDate',\t'Actor1Code',\t'Actor1Name',\t'Actor1CountryCode',\t'Actor1KnownGroupCode',\t'Actor1EthnicCode',\t'Actor1Religion1Code',\t'Actor1Religion2Code',\t'Actor1Type1Code',\t'Actor1Type2Code',\t'Actor1Type3Code',\t'Actor2Code',\t'Actor2Name',\t'Actor2CountryCode',\t'Actor2KnownGroupCode',\t'Actor2EthnicCode',\t'Actor2Religion1Code',\t'Actor2Religion2Code',\t'Actor2Type1Code',\t'Actor2Type2Code',\t'Actor2Type3Code',\t'IsRootEvent',\t'EventCode',\t'EventBaseCode',\t'EventRootCode',\t'QuadClass',\t'GoldsteinScale',\t'NumMentions',\t'NumSources',\t'NumArticles',\t'AvgTone',\t'Actor1Geo_Type',\t'Actor1Geo_FullName',\t'Actor1Geo_CountryCode',\t'Actor1Geo_ADM1Code',\t'Actor1Geo_ADM2Code',\t'Actor1Geo_Lat',\t'Actor1Geo_Long',\t'Actor1Geo_FeatureID',\t'Actor2Geo_Type',\t'Actor2Geo_FullName',\t'Actor2Geo_CountryCode',\t'Actor2Geo_ADM1Code',\t'Actor2Geo_ADM2Code',\t'Actor2Geo_Lat',\t'Actor2Geo_Long',\t'Actor2Geo_FeatureID',\t'ActionGeo_Type',\t'ActionGeo_FullName',\t'ActionGeo_CountryCode',\t'ActionGeo_ADM1Code',\t'ActionGeo_ADM2Code',\t'ActionGeo_Lat',\t'ActionGeo_Long',\t'ActionGeo_FeatureID',\t'DATEADDED',\t'SOURCEURL']"
   ],
   "metadata": {
    "collapsed": false
   }
  },
  {
   "cell_type": "code",
   "execution_count": 17,
   "outputs": [],
   "source": [
    "sample = pd.read_csv('/Users/dorianfitton/Documents/Cours_Télécom/NoSQL_project_GDELT/explo/dorian/data/20150218230000.export.CSV', delimiter=\"\\t\", header=None)"
   ],
   "metadata": {
    "collapsed": false
   }
  },
  {
   "cell_type": "code",
   "execution_count": 18,
   "outputs": [],
   "source": [
    "sample.columns=list_header"
   ],
   "metadata": {
    "collapsed": false
   }
  },
  {
   "cell_type": "code",
   "execution_count": 19,
   "outputs": [
    {
     "data": {
      "text/plain": "      BALEVENTID   SQLDATE  MonthYear  Year  FractionDate Actor1Code  \\\n0      410412347  20140218     201402  2014     2014.1315        NaN   \n1      410412348  20140218     201402  2014     2014.1315        NaN   \n2      410412349  20140218     201402  2014     2014.1315        NaN   \n3      410412350  20140218     201402  2014     2014.1315        NaN   \n4      410412351  20140218     201402  2014     2014.1315        NaN   \n...          ...       ...        ...   ...           ...        ...   \n2266   410414613  20150218     201502  2015     2015.1315        ran   \n2267   410414614  20150218     201502  2015     2015.1315        ran   \n2268   410414615  20150218     201502  2015     2015.1315        ran   \n2269   410414616  20150218     201502  2015     2015.1315        ran   \n2270   410414617  20150218     201502  2015     2015.1315        tib   \n\n     Actor1Name Actor1CountryCode Actor1KnownGroupCode Actor1EthnicCode  ...  \\\n0           NaN               NaN                  NaN              NaN  ...   \n1           NaN               NaN                  NaN              NaN  ...   \n2           NaN               NaN                  NaN              NaN  ...   \n3           NaN               NaN                  NaN              NaN  ...   \n4           NaN               NaN                  NaN              NaN  ...   \n...         ...               ...                  ...              ...  ...   \n2266       RANA               NaN                  NaN              ran  ...   \n2267       RANA               NaN                  NaN              ran  ...   \n2268       RANA               NaN                  NaN              ran  ...   \n2269       RANA               NaN                  NaN              ran  ...   \n2270    TIBETAN               NaN                  NaN              tib  ...   \n\n     ActionGeo_Type                    ActionGeo_FullName  \\\n0                 4  Waterkloof, Free State, South Africa   \n1                 4           Bengaluru, Karnataka, India   \n2                 4   Great Southern, Victoria, Australia   \n3                 1                           New Zealand   \n4                 2                  Idaho, United States   \n...             ...                                   ...   \n2266              4        Islamabad, Islamabad, Pakistan   \n2267              4  Agha Muhammad, Balochistan, Pakistan   \n2268              4        Islamabad, Islamabad, Pakistan   \n2269              4  Agha Muhammad, Balochistan, Pakistan   \n2270              4                   Amdo, Xizang, China   \n\n     ActionGeo_CountryCode ActionGeo_ADM1Code ActionGeo_ADM2Code  \\\n0                       SF               SF03              77359   \n1                       IN               IN19              70159   \n2                       AS               AS07               5387   \n3                       NZ                 NZ                NaN   \n4                       US               USID                NaN   \n...                    ...                ...                ...   \n2266                    PK               PK08              23674   \n2267                    PK               PK02               3606   \n2268                    PK               PK08              23674   \n2269                    PK               PK02               3606   \n2270                    CH               CH14              13213   \n\n     ActionGeo_Lat ActionGeo_Long ActionGeo_FeatureID       DATEADDED  \\\n0         -30.3098        25.2971            -1299321  20150218230000   \n1          12.9833        77.5833            -2090174  20150218230000   \n2         -36.0667       146.4830            -1576477  20150218230000   \n3         -41.0000       174.0000                  NZ  20150218230000   \n4          44.2394      -114.5100                  ID  20150218230000   \n...            ...            ...                 ...             ...   \n2266       33.7000        73.1667            -2762812  20150218230000   \n2267       30.5699        66.5961              356668  20150218230000   \n2268       33.7000        73.1667            -2762812  20150218230000   \n2269       30.5699        66.5961              356668  20150218230000   \n2270       32.3333        91.6667            -1920650  20150218230000   \n\n                                              SOURCEURL  \n0     http://www.dailymaverick.co.za/article/2015-02...  \n1     http://timesofindia.indiatimes.com/city/bengal...  \n2     http://www.voxy.co.nz/entertainment/coast-new-...  \n3     http://www.voxy.co.nz/entertainment/coast-new-...  \n4     http://www.eastidahonews.com/2015/02/neil-patr...  \n...                                                 ...  \n2266  http://www.dailytimes.com.pk/national/19-Feb-2...  \n2267  http://www.dailytimes.com.pk/national/19-Feb-2...  \n2268  http://www.dailytimes.com.pk/national/19-Feb-2...  \n2269  http://www.dailytimes.com.pk/national/19-Feb-2...  \n2270  http://www.bbg.gov/blog/2015/02/18/rfas-tibeta...  \n\n[2271 rows x 61 columns]",
      "text/html": "<div>\n<style scoped>\n    .dataframe tbody tr th:only-of-type {\n        vertical-align: middle;\n    }\n\n    .dataframe tbody tr th {\n        vertical-align: top;\n    }\n\n    .dataframe thead th {\n        text-align: right;\n    }\n</style>\n<table border=\"1\" class=\"dataframe\">\n  <thead>\n    <tr style=\"text-align: right;\">\n      <th></th>\n      <th>BALEVENTID</th>\n      <th>SQLDATE</th>\n      <th>MonthYear</th>\n      <th>Year</th>\n      <th>FractionDate</th>\n      <th>Actor1Code</th>\n      <th>Actor1Name</th>\n      <th>Actor1CountryCode</th>\n      <th>Actor1KnownGroupCode</th>\n      <th>Actor1EthnicCode</th>\n      <th>...</th>\n      <th>ActionGeo_Type</th>\n      <th>ActionGeo_FullName</th>\n      <th>ActionGeo_CountryCode</th>\n      <th>ActionGeo_ADM1Code</th>\n      <th>ActionGeo_ADM2Code</th>\n      <th>ActionGeo_Lat</th>\n      <th>ActionGeo_Long</th>\n      <th>ActionGeo_FeatureID</th>\n      <th>DATEADDED</th>\n      <th>SOURCEURL</th>\n    </tr>\n  </thead>\n  <tbody>\n    <tr>\n      <th>0</th>\n      <td>410412347</td>\n      <td>20140218</td>\n      <td>201402</td>\n      <td>2014</td>\n      <td>2014.1315</td>\n      <td>NaN</td>\n      <td>NaN</td>\n      <td>NaN</td>\n      <td>NaN</td>\n      <td>NaN</td>\n      <td>...</td>\n      <td>4</td>\n      <td>Waterkloof, Free State, South Africa</td>\n      <td>SF</td>\n      <td>SF03</td>\n      <td>77359</td>\n      <td>-30.3098</td>\n      <td>25.2971</td>\n      <td>-1299321</td>\n      <td>20150218230000</td>\n      <td>http://www.dailymaverick.co.za/article/2015-02...</td>\n    </tr>\n    <tr>\n      <th>1</th>\n      <td>410412348</td>\n      <td>20140218</td>\n      <td>201402</td>\n      <td>2014</td>\n      <td>2014.1315</td>\n      <td>NaN</td>\n      <td>NaN</td>\n      <td>NaN</td>\n      <td>NaN</td>\n      <td>NaN</td>\n      <td>...</td>\n      <td>4</td>\n      <td>Bengaluru, Karnataka, India</td>\n      <td>IN</td>\n      <td>IN19</td>\n      <td>70159</td>\n      <td>12.9833</td>\n      <td>77.5833</td>\n      <td>-2090174</td>\n      <td>20150218230000</td>\n      <td>http://timesofindia.indiatimes.com/city/bengal...</td>\n    </tr>\n    <tr>\n      <th>2</th>\n      <td>410412349</td>\n      <td>20140218</td>\n      <td>201402</td>\n      <td>2014</td>\n      <td>2014.1315</td>\n      <td>NaN</td>\n      <td>NaN</td>\n      <td>NaN</td>\n      <td>NaN</td>\n      <td>NaN</td>\n      <td>...</td>\n      <td>4</td>\n      <td>Great Southern, Victoria, Australia</td>\n      <td>AS</td>\n      <td>AS07</td>\n      <td>5387</td>\n      <td>-36.0667</td>\n      <td>146.4830</td>\n      <td>-1576477</td>\n      <td>20150218230000</td>\n      <td>http://www.voxy.co.nz/entertainment/coast-new-...</td>\n    </tr>\n    <tr>\n      <th>3</th>\n      <td>410412350</td>\n      <td>20140218</td>\n      <td>201402</td>\n      <td>2014</td>\n      <td>2014.1315</td>\n      <td>NaN</td>\n      <td>NaN</td>\n      <td>NaN</td>\n      <td>NaN</td>\n      <td>NaN</td>\n      <td>...</td>\n      <td>1</td>\n      <td>New Zealand</td>\n      <td>NZ</td>\n      <td>NZ</td>\n      <td>NaN</td>\n      <td>-41.0000</td>\n      <td>174.0000</td>\n      <td>NZ</td>\n      <td>20150218230000</td>\n      <td>http://www.voxy.co.nz/entertainment/coast-new-...</td>\n    </tr>\n    <tr>\n      <th>4</th>\n      <td>410412351</td>\n      <td>20140218</td>\n      <td>201402</td>\n      <td>2014</td>\n      <td>2014.1315</td>\n      <td>NaN</td>\n      <td>NaN</td>\n      <td>NaN</td>\n      <td>NaN</td>\n      <td>NaN</td>\n      <td>...</td>\n      <td>2</td>\n      <td>Idaho, United States</td>\n      <td>US</td>\n      <td>USID</td>\n      <td>NaN</td>\n      <td>44.2394</td>\n      <td>-114.5100</td>\n      <td>ID</td>\n      <td>20150218230000</td>\n      <td>http://www.eastidahonews.com/2015/02/neil-patr...</td>\n    </tr>\n    <tr>\n      <th>...</th>\n      <td>...</td>\n      <td>...</td>\n      <td>...</td>\n      <td>...</td>\n      <td>...</td>\n      <td>...</td>\n      <td>...</td>\n      <td>...</td>\n      <td>...</td>\n      <td>...</td>\n      <td>...</td>\n      <td>...</td>\n      <td>...</td>\n      <td>...</td>\n      <td>...</td>\n      <td>...</td>\n      <td>...</td>\n      <td>...</td>\n      <td>...</td>\n      <td>...</td>\n      <td>...</td>\n    </tr>\n    <tr>\n      <th>2266</th>\n      <td>410414613</td>\n      <td>20150218</td>\n      <td>201502</td>\n      <td>2015</td>\n      <td>2015.1315</td>\n      <td>ran</td>\n      <td>RANA</td>\n      <td>NaN</td>\n      <td>NaN</td>\n      <td>ran</td>\n      <td>...</td>\n      <td>4</td>\n      <td>Islamabad, Islamabad, Pakistan</td>\n      <td>PK</td>\n      <td>PK08</td>\n      <td>23674</td>\n      <td>33.7000</td>\n      <td>73.1667</td>\n      <td>-2762812</td>\n      <td>20150218230000</td>\n      <td>http://www.dailytimes.com.pk/national/19-Feb-2...</td>\n    </tr>\n    <tr>\n      <th>2267</th>\n      <td>410414614</td>\n      <td>20150218</td>\n      <td>201502</td>\n      <td>2015</td>\n      <td>2015.1315</td>\n      <td>ran</td>\n      <td>RANA</td>\n      <td>NaN</td>\n      <td>NaN</td>\n      <td>ran</td>\n      <td>...</td>\n      <td>4</td>\n      <td>Agha Muhammad, Balochistan, Pakistan</td>\n      <td>PK</td>\n      <td>PK02</td>\n      <td>3606</td>\n      <td>30.5699</td>\n      <td>66.5961</td>\n      <td>356668</td>\n      <td>20150218230000</td>\n      <td>http://www.dailytimes.com.pk/national/19-Feb-2...</td>\n    </tr>\n    <tr>\n      <th>2268</th>\n      <td>410414615</td>\n      <td>20150218</td>\n      <td>201502</td>\n      <td>2015</td>\n      <td>2015.1315</td>\n      <td>ran</td>\n      <td>RANA</td>\n      <td>NaN</td>\n      <td>NaN</td>\n      <td>ran</td>\n      <td>...</td>\n      <td>4</td>\n      <td>Islamabad, Islamabad, Pakistan</td>\n      <td>PK</td>\n      <td>PK08</td>\n      <td>23674</td>\n      <td>33.7000</td>\n      <td>73.1667</td>\n      <td>-2762812</td>\n      <td>20150218230000</td>\n      <td>http://www.dailytimes.com.pk/national/19-Feb-2...</td>\n    </tr>\n    <tr>\n      <th>2269</th>\n      <td>410414616</td>\n      <td>20150218</td>\n      <td>201502</td>\n      <td>2015</td>\n      <td>2015.1315</td>\n      <td>ran</td>\n      <td>RANA</td>\n      <td>NaN</td>\n      <td>NaN</td>\n      <td>ran</td>\n      <td>...</td>\n      <td>4</td>\n      <td>Agha Muhammad, Balochistan, Pakistan</td>\n      <td>PK</td>\n      <td>PK02</td>\n      <td>3606</td>\n      <td>30.5699</td>\n      <td>66.5961</td>\n      <td>356668</td>\n      <td>20150218230000</td>\n      <td>http://www.dailytimes.com.pk/national/19-Feb-2...</td>\n    </tr>\n    <tr>\n      <th>2270</th>\n      <td>410414617</td>\n      <td>20150218</td>\n      <td>201502</td>\n      <td>2015</td>\n      <td>2015.1315</td>\n      <td>tib</td>\n      <td>TIBETAN</td>\n      <td>NaN</td>\n      <td>NaN</td>\n      <td>tib</td>\n      <td>...</td>\n      <td>4</td>\n      <td>Amdo, Xizang, China</td>\n      <td>CH</td>\n      <td>CH14</td>\n      <td>13213</td>\n      <td>32.3333</td>\n      <td>91.6667</td>\n      <td>-1920650</td>\n      <td>20150218230000</td>\n      <td>http://www.bbg.gov/blog/2015/02/18/rfas-tibeta...</td>\n    </tr>\n  </tbody>\n</table>\n<p>2271 rows × 61 columns</p>\n</div>"
     },
     "execution_count": 19,
     "metadata": {},
     "output_type": "execute_result"
    }
   ],
   "source": [
    "sample"
   ],
   "metadata": {
    "collapsed": false
   }
  },
  {
   "cell_type": "code",
   "execution_count": null,
   "outputs": [],
   "source": [
    "sample_multil = pd.read_csv('/Users/dorianfitton/Documents/Cours_Télécom/NoSQL_project_GDELT/explo/dorian/data/20150218230000.export.CSV', delimiter=\"\\t\", header=None)"
   ],
   "metadata": {
    "collapsed": false
   }
  }
 ],
 "metadata": {
  "kernelspec": {
   "display_name": "Python 3",
   "language": "python",
   "name": "python3"
  },
  "language_info": {
   "codemirror_mode": {
    "name": "ipython",
    "version": 2
   },
   "file_extension": ".py",
   "mimetype": "text/x-python",
   "name": "python",
   "nbconvert_exporter": "python",
   "pygments_lexer": "ipython2",
   "version": "2.7.6"
  }
 },
 "nbformat": 4,
 "nbformat_minor": 0
}
