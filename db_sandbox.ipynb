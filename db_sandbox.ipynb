{
 "cells": [
  {
   "cell_type": "code",
   "execution_count": 2,
   "metadata": {},
   "outputs": [],
   "source": [
    "from neo4j import GraphDatabase\n",
    "\n",
    "# URI examples: \"neo4j://localhost\", \"neo4j+s://xxx.databases.neo4j.io\"\n"
   ]
  },
  {
   "cell_type": "code",
   "execution_count": 50,
   "metadata": {},
   "outputs": [],
   "source": [
    "URI = \"bolt://localhost:7687\"\n",
    "AUTH = (\"neo4j\", \"azerty92\")\n",
    "\n",
    "with GraphDatabase.driver(URI, auth=AUTH) as driver: \n",
    "    driver.verify_connectivity() "
   ]
  },
  {
   "cell_type": "code",
   "execution_count": 51,
   "metadata": {},
   "outputs": [],
   "source": [
    "def create_person(tx, name):  \n",
    "    result = tx.run(\n",
    "        \"MERGE (:Person {name: $name, school:'Telecom Paris'})\",  \n",
    "        name=name  \n",
    "    )\n",
    "    summary = result.consume()\n",
    "    return summary"
   ]
  },
  {
   "cell_type": "code",
   "execution_count": 31,
   "metadata": {},
   "outputs": [
    {
     "name": "stdout",
     "output_type": "stream",
     "text": [
      "Created 0 nodes in 3 ms.\n"
     ]
    }
   ],
   "source": [
    "with driver.session(database=\"foo\") as session:\n",
    "    summary = session.execute_write(create_person, name=\"Guillaume\")  \n",
    "\n",
    "    print(\"Created {nodes_created} nodes in {time} ms.\".format(\n",
    "        nodes_created=summary.counters.nodes_created,\n",
    "        time=summary.result_available_after\n",
    "    ))"
   ]
  },
  {
   "cell_type": "code",
   "execution_count": 63,
   "metadata": {},
   "outputs": [],
   "source": [
    "def count_row(tx, fn):  \n",
    "    result = tx.run(\n",
    "        f\"\"\"\n",
    "        LOAD CSV FROM 'file:///{fn}' AS row FIELDTERMINATOR '\\t'\n",
    "        RETURN COUNT(row)\n",
    "        \"\"\" \n",
    "    )\n",
    "    count = result.fetch(1)\n",
    "    summary = result.consume()\n",
    "    return count, summary\n",
    "\n",
    "def exec_write(query, csv_filename, db):\n",
    "    # Execute a write query in the provided DB from a csv\n",
    "    with driver.session(database=db) as session:\n",
    "        summary = session.run(query.format(fn=csv_filename)).consume()\n",
    "\n",
    "        print(\"Created {nodes_created} nodes and {relationship_created} relationships in {time} ms.\".format(\n",
    "            nodes_created=summary.counters.nodes_created,\n",
    "            relationship_created=summary.counters.relationships_created,\n",
    "            time=summary.result_available_after\n",
    "        ))"
   ]
  },
  {
   "attachments": {},
   "cell_type": "markdown",
   "metadata": {},
   "source": [
    "# Create Events and actors"
   ]
  },
  {
   "cell_type": "code",
   "execution_count": 73,
   "metadata": {},
   "outputs": [
    {
     "name": "stdout",
     "output_type": "stream",
     "text": [
      "Created 0 nodes in 1 ms.\n",
      "[<Record COUNT(row)=332>]\n"
     ]
    }
   ],
   "source": [
    "# Count lines in csv\n",
    "with driver.session(database=\"foo\") as session:\n",
    "    count, summary = session.execute_write(count_row, fn='20230101000000.translation.export.csv')  \n",
    "\n",
    "    print(\"Created {nodes_created} nodes in {time} ms.\".format(\n",
    "        nodes_created=summary.counters.nodes_created,\n",
    "        time=summary.result_available_after\n",
    "    ))\n",
    "    print(count)"
   ]
  },
  {
   "cell_type": "code",
   "execution_count": 66,
   "metadata": {},
   "outputs": [
    {
     "name": "stdout",
     "output_type": "stream",
     "text": [
      "Created 332 nodes and 0 relationships in 262 ms.\n"
     ]
    }
   ],
   "source": [
    "# Create event nodes\n",
    "create_event = \"\"\"\n",
    "LOAD CSV FROM 'file:///{fn}' AS row FIELDTERMINATOR '\\t'\n",
    "CALL {{\n",
    "    WITH row\n",
    "    MERGE (event:Event {{GlobalEventID:row[0]}})\n",
    "    ON CREATE\n",
    "    SET\n",
    "        event.Date = Datetime(row[1]),\n",
    "        event.Type = row[26]\n",
    "}} IN TRANSACTIONS OF 1000 ROWS;\n",
    "\"\"\"\n",
    "\n",
    "exec_write(create_event, \"20230101000000.translation.export.csv\", \"foo\")"
   ]
  },
  {
   "cell_type": "code",
   "execution_count": 67,
   "metadata": {},
   "outputs": [
    {
     "name": "stdout",
     "output_type": "stream",
     "text": [
      "Created 113 nodes and 0 relationships in 79 ms.\n"
     ]
    }
   ],
   "source": [
    "# Create actor1 node\n",
    "\n",
    "# actor1Name idex: 6\n",
    "# actor2Name idex: 16\n",
    "create_actor1 = \"\"\" \n",
    "            LOAD CSV FROM 'file:///{fn}' AS row FIELDTERMINATOR '\\t'\n",
    "            WITH row WHERE row[6] IS NOT NULL\n",
    "            CALL {{\n",
    "                WITH row\n",
    "                MERGE (:Actor {{Name:row[6]}})\n",
    "            }} IN TRANSACTIONS OF 1000 ROWS;\n",
    "        \"\"\"\n",
    "exec_write(create_actor1, \"20230101000000.translation.export.csv\", \"foo\")"
   ]
  },
  {
   "cell_type": "code",
   "execution_count": 68,
   "metadata": {},
   "outputs": [
    {
     "name": "stdout",
     "output_type": "stream",
     "text": [
      "Created 27 nodes and 0 relationships in 67 ms.\n"
     ]
    }
   ],
   "source": [
    "# Create actor2 node\n",
    "\n",
    "# actor1Name idex: 6\n",
    "# actor2Name idex: 16\n",
    "create_actor2 = \"\"\" \n",
    "            LOAD CSV FROM 'file:///{fn}' AS row FIELDTERMINATOR '\\t'\n",
    "            WITH row WHERE row[16] IS NOT NULL\n",
    "            CALL {{\n",
    "                WITH row\n",
    "                MERGE (:Actor {{Name:row[16]}})\n",
    "            }} IN TRANSACTIONS OF 1000 ROWS;\n",
    "        \"\"\"\n",
    "exec_write(create_actor2, \"20230101000000.translation.export.csv\", \"foo\")"
   ]
  },
  {
   "cell_type": "code",
   "execution_count": 69,
   "metadata": {},
   "outputs": [
    {
     "name": "stdout",
     "output_type": "stream",
     "text": [
      "Created 0 nodes and 280 relationships in 365 ms.\n"
     ]
    }
   ],
   "source": [
    "# Create relationship between actor1 and event\n",
    "\n",
    "# actor1Name idex: 6\n",
    "# actor2Name idex: 16\n",
    "create_actor1_event = \"\"\"\n",
    "            LOAD CSV FROM 'file:///{fn}' AS row FIELDTERMINATOR '\\t'\n",
    "            WITH row WHERE row[6] IS NOT NULL\n",
    "            MATCH (event:Event {{GlobalEventID : row[0]}})\n",
    "            MATCH (actor:Actor {{Name : row[6]}})\n",
    "            CALL {{\n",
    "                WITH event, actor\n",
    "                MERGE (actor)-[:GENERATES]->(event)\n",
    "            }} IN TRANSACTIONS OF 1000 ROWS;\n",
    "        \"\"\"\n",
    "exec_write(create_actor1_event, \"20230101000000.translation.export.csv\", \"foo\")"
   ]
  },
  {
   "cell_type": "code",
   "execution_count": 70,
   "metadata": {},
   "outputs": [
    {
     "name": "stdout",
     "output_type": "stream",
     "text": [
      "Created 0 nodes and 198 relationships in 151 ms.\n"
     ]
    }
   ],
   "source": [
    "# Create relationship between event and actor2\n",
    "\n",
    "# actor1Name idex: 6\n",
    "# actor2Name idex: 16\n",
    "create_event_actor2 = \"\"\" \n",
    "            LOAD CSV FROM 'file:///{fn}' AS row FIELDTERMINATOR '\\t'\n",
    "            WITH row WHERE row[16] IS NOT NULL\n",
    "            MATCH (event:Event {{GlobalEventID : row[0]}})\n",
    "            MATCH (actor:Actor {{Name : row[16]}})\n",
    "            CALL {{\n",
    "                WITH event, actor\n",
    "                MERGE (event)-[:IMPACTS]->(actor)\n",
    "            }} IN TRANSACTIONS OF 1000 ROWS;\n",
    "        \"\"\"\n",
    "exec_write(create_event_actor2, \"20230101000000.translation.export.csv\", \"foo\")"
   ]
  },
  {
   "attachments": {},
   "cell_type": "markdown",
   "metadata": {},
   "source": [
    "# Create Mentions and Resources"
   ]
  },
  {
   "cell_type": "code",
   "execution_count": 81,
   "metadata": {},
   "outputs": [
    {
     "name": "stdout",
     "output_type": "stream",
     "text": [
      "Created 127 nodes and 0 relationships in 120 ms.\n"
     ]
    }
   ],
   "source": [
    "create_resource = \"\"\" \n",
    "            LOAD CSV FROM 'file:///{fn}' AS row FIELDTERMINATOR '\\t'\n",
    "            WITH row WHERE row[5] IS NOT NULL\n",
    "            CALL {{\n",
    "                WITH row\n",
    "                MERGE (:Resource {{OriginalID:row[5]}})\n",
    "            }} IN TRANSACTIONS OF 1000 ROWS;\n",
    "        \"\"\"\n",
    "exec_write(create_resource, \"20230101000000.translation.mentions.csv\", \"foo\")"
   ]
  },
  {
   "cell_type": "code",
   "execution_count": 87,
   "metadata": {},
   "outputs": [
    {
     "name": "stdout",
     "output_type": "stream",
     "text": [
      "Created 0 nodes and 357 relationships in 527 ms.\n"
     ]
    }
   ],
   "source": [
    "create_resource_event = \"\"\" \n",
    "            LOAD CSV FROM 'file:///{fn}' AS row FIELDTERMINATOR '\\t'\n",
    "            WITH row WHERE row[5] IS NOT NULL\n",
    "            CALL {{\n",
    "                WITH row\n",
    "                MATCH (event:Event {{GlobalEventID : row[0]}})\n",
    "                MATCH (resource:Resource {{OriginalID : row[5]}})\n",
    "                MERGE (resource)-[:MENTIONS {{Confidence:coalesce(toInteger(row[11]), 0)}}]->(event)\n",
    "            }} IN TRANSACTIONS OF 1000 ROWS;\n",
    "        \"\"\"\n",
    "exec_write(create_resource_event, \"20230101000000.translation.mentions.csv\", \"foo\")"
   ]
  }
 ],
 "metadata": {
  "kernelspec": {
   "display_name": "Python 3",
   "language": "python",
   "name": "python3"
  },
  "language_info": {
   "codemirror_mode": {
    "name": "ipython",
    "version": 3
   },
   "file_extension": ".py",
   "mimetype": "text/x-python",
   "name": "python",
   "nbconvert_exporter": "python",
   "pygments_lexer": "ipython3",
   "version": "3.8.10"
  },
  "orig_nbformat": 4,
  "vscode": {
   "interpreter": {
    "hash": "916dbcbb3f70747c44a77c7bcd40155683ae19c65e1c03b4aa3499c5328201f1"
   }
  }
 },
 "nbformat": 4,
 "nbformat_minor": 2
}
