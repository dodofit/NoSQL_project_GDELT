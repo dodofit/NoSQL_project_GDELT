{
 "cells": [
  {
   "cell_type": "code",
   "execution_count": 1,
   "metadata": {},
   "outputs": [],
   "source": [
    "from neo4j import GraphDatabase\n",
    "\n",
    "# URI examples: \"neo4j://localhost\", \"neo4j+s://xxx.databases.neo4j.io\"\n"
   ]
  },
  {
   "cell_type": "code",
   "execution_count": 30,
   "metadata": {},
   "outputs": [],
   "source": [
    "URI = \"bolt://localhost:7687\"\n",
    "AUTH = (\"neo4j\", \"azerty92\")\n",
    "\n",
    "with GraphDatabase.driver(URI, auth=AUTH) as driver: \n",
    "    driver.verify_connectivity() "
   ]
  },
  {
   "cell_type": "code",
   "execution_count": 3,
   "metadata": {},
   "outputs": [],
   "source": [
    "def create_person(tx, name):  \n",
    "    result = tx.run(\n",
    "        \"MERGE (:Person {name: $name, school:'Telecom Paris'})\",  \n",
    "        name=name  \n",
    "    )\n",
    "    summary = result.consume()\n",
    "    return summary"
   ]
  },
  {
   "cell_type": "code",
   "execution_count": 31,
   "metadata": {},
   "outputs": [
    {
     "name": "stdout",
     "output_type": "stream",
     "text": [
      "Created 0 nodes in 3 ms.\n"
     ]
    }
   ],
   "source": [
    "with driver.session(database=\"foo\") as session:\n",
    "    summary = session.execute_write(create_person, name=\"Guillaume\")  \n",
    "\n",
    "    print(\"Created {nodes_created} nodes in {time} ms.\".format(\n",
    "        nodes_created=summary.counters.nodes_created,\n",
    "        time=summary.result_available_after\n",
    "    ))"
   ]
  },
  {
   "cell_type": "code",
   "execution_count": 39,
   "metadata": {},
   "outputs": [],
   "source": [
    "def count_row(tx):  \n",
    "    result = tx.run(\n",
    "        \"\"\"\n",
    "        LOAD CSV FROM 'file:///20230101000000.translation.export.csv' AS row FIELDTERMINATOR '\\t'\n",
    "        RETURN COUNT(row)\n",
    "        \"\"\" \n",
    "    )\n",
    "    count = result.fetch(1)\n",
    "    summary = result.consume()\n",
    "    return count, summary\n",
    "\n",
    "def create_node_export(tx):  \n",
    "    result = tx.run(\n",
    "        \"\"\"\n",
    "        LOAD CSV FROM 'file:///20230101000000.translation.export.csv' AS row FIELDTERMINATOR '\\t'\n",
    "        MERGE (event:Event {GlobalEventID:row[0]})\n",
    "        ON CREATE \n",
    "        SET \n",
    "            event.Date = row[1],\n",
    "            event.Type = row[26]\n",
    "        ;\n",
    "        \"\"\" \n",
    "    )\n",
    "    summary = result.consume()\n",
    "    return summary"
   ]
  },
  {
   "cell_type": "code",
   "execution_count": 35,
   "metadata": {},
   "outputs": [
    {
     "name": "stdout",
     "output_type": "stream",
     "text": [
      "Created 0 nodes in 14 ms.\n",
      "[<Record COUNT(row)=332>]\n"
     ]
    }
   ],
   "source": [
    "with driver.session(database=\"foo\") as session:\n",
    "    count, summary = session.execute_write(count_row)  \n",
    "\n",
    "    print(\"Created {nodes_created} nodes in {time} ms.\".format(\n",
    "        nodes_created=summary.counters.nodes_created,\n",
    "        time=summary.result_available_after\n",
    "    ))\n",
    "    print(count)"
   ]
  },
  {
   "cell_type": "code",
   "execution_count": 40,
   "metadata": {},
   "outputs": [
    {
     "name": "stdout",
     "output_type": "stream",
     "text": [
      "Created 0 nodes in 211 ms.\n"
     ]
    }
   ],
   "source": [
    "with driver.session(database=\"foo\") as session:\n",
    "    summary = session.execute_write(create_node_export)  \n",
    "\n",
    "    print(\"Created {nodes_created} nodes in {time} ms.\".format(\n",
    "        nodes_created=summary.counters.nodes_created,\n",
    "        time=summary.result_available_after\n",
    "    ))"
   ]
  }
 ],
 "metadata": {
  "kernelspec": {
   "display_name": "Python 3",
   "language": "python",
   "name": "python3"
  },
  "language_info": {
   "codemirror_mode": {
    "name": "ipython",
    "version": 3
   },
   "file_extension": ".py",
   "mimetype": "text/x-python",
   "name": "python",
   "nbconvert_exporter": "python",
   "pygments_lexer": "ipython3",
   "version": "3.8.10 (default, Jun 22 2022, 20:18:18) \n[GCC 9.4.0]"
  },
  "orig_nbformat": 4,
  "vscode": {
   "interpreter": {
    "hash": "916dbcbb3f70747c44a77c7bcd40155683ae19c65e1c03b4aa3499c5328201f1"
   }
  }
 },
 "nbformat": 4,
 "nbformat_minor": 2
}
