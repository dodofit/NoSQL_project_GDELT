{
 "cells": [
  {
   "cell_type": "code",
   "execution_count": 13,
   "metadata": {},
   "outputs": [],
   "source": [
    "from neo4j import GraphDatabase\n",
    "\n",
    "# URI examples: \"neo4j://localhost\", \"neo4j+s://xxx.databases.neo4j.io\"\n"
   ]
  },
  {
   "cell_type": "code",
   "execution_count": 14,
   "metadata": {},
   "outputs": [],
   "source": [
    "URI = \"bolt://localhost:7687\"\n",
    "AUTH = (\"neo4j\", \"azerty92\")\n",
    "\n",
    "with GraphDatabase.driver(URI, auth=AUTH) as driver: \n",
    "    driver.verify_connectivity() "
   ]
  },
  {
   "cell_type": "code",
   "execution_count": 33,
   "metadata": {},
   "outputs": [],
   "source": [
    "def count_row(tx, fn):  \n",
    "    result = tx.run(\n",
    "        f\"\"\"\n",
    "        LOAD CSV FROM 'file:///{fn}' AS row FIELDTERMINATOR '\\t'\n",
    "        RETURN COUNT(row)\n",
    "        \"\"\" \n",
    "    )\n",
    "    count = result.fetch(1)\n",
    "    summary = result.consume()\n",
    "    return count, summary\n",
    "\n",
    "def exec_write(query, csv_filename, db):\n",
    "    # Execute a write query in the provided DB from a csv\n",
    "    with driver.session(database=db) as session:\n",
    "        summary = session.run(query.format(fn=csv_filename)).consume()\n",
    "\n",
    "        print(\"Created {nodes_created} nodes and {relationship_created} relationships and set {properties_set} properties in {time} ms.\".format(\n",
    "            nodes_created=summary.counters.nodes_created,\n",
    "            properties_set=summary.counters.properties_set,\n",
    "            relationship_created=summary.counters.relationships_created,\n",
    "            time=summary.result_available_after\n",
    "        ))"
   ]
  },
  {
   "cell_type": "code",
   "execution_count": 43,
   "metadata": {},
   "outputs": [
    {
     "name": "stdout",
     "output_type": "stream",
     "text": [
      "Created 279 nodes and 0 relationships and set 558 properties in 217 ms.\n"
     ]
    }
   ],
   "source": [
    "create_country = \"\"\"\n",
    "LOAD CSV WITH HEADERS FROM 'file:///{fn}' AS row \n",
    "WITH row WHERE row.FIPS IS NOT NULL \n",
    "MERGE (c:Country {{FIPS: row.FIPS, name: row.Name}});  \n",
    "\"\"\"\n",
    "exec_write(create_country, \"fips.csv\", \"gdeltMono\")"
   ]
  },
  {
   "attachments": {},
   "cell_type": "markdown",
   "metadata": {},
   "source": [
    "# Create Events and actors"
   ]
  },
  {
   "cell_type": "code",
   "execution_count": 17,
   "metadata": {},
   "outputs": [
    {
     "name": "stdout",
     "output_type": "stream",
     "text": [
      "Created 0 nodes in 1059 ms.\n",
      "[<Record COUNT(row)=332>]\n"
     ]
    }
   ],
   "source": [
    "# Count lines in csv\n",
    "with driver.session(database=\"gdeltMono\") as session:\n",
    "    count, summary = session.execute_write(count_row, fn='20230101000000.translation.export.csv')  \n",
    "\n",
    "    print(\"Created {nodes_created} nodes in {time} ms.\".format(\n",
    "        nodes_created=summary.counters.nodes_created,\n",
    "        time=summary.result_available_after\n",
    "    ))\n",
    "    print(count)"
   ]
  },
  {
   "cell_type": "code",
   "execution_count": 18,
   "metadata": {},
   "outputs": [
    {
     "name": "stdout",
     "output_type": "stream",
     "text": [
      "Created 332 nodes and 0 relationships in 1600 ms.\n"
     ]
    }
   ],
   "source": [
    "# Create event nodes\n",
    "create_event = \"\"\"\n",
    "LOAD CSV FROM 'file:///{fn}' AS row FIELDTERMINATOR '\\t'\n",
    "CALL {{\n",
    "    WITH row\n",
    "    MERGE (event:Event {{GlobalEventID:row[0]}})\n",
    "    ON CREATE\n",
    "    SET\n",
    "        event.Date = Datetime(row[1]),\n",
    "        event.Type = row[26]\n",
    "}} IN TRANSACTIONS OF 1000 ROWS;\n",
    "\"\"\"\n",
    "\n",
    "exec_write(create_event, \"20230101000000.translation.export.csv\", \"gdeltMono\")"
   ]
  },
  {
   "cell_type": "code",
   "execution_count": 46,
   "metadata": {},
   "outputs": [
    {
     "name": "stdout",
     "output_type": "stream",
     "text": [
      "Created 0 nodes and 311 relationships and set 622 properties in 482 ms.\n"
     ]
    }
   ],
   "source": [
    "# Create relationship between event and country\n",
    "\n",
    "create_event_country = \"\"\"\n",
    "            LOAD CSV FROM 'file:///{fn}' AS row FIELDTERMINATOR '\\t'\n",
    "            WITH row WHERE row[53] IS NOT NULL\n",
    "            MATCH (event:Event {{GlobalEventID : row[0]}})\n",
    "            MATCH (country:Country {{FIPS : row[53]}})\n",
    "            CALL {{\n",
    "                WITH row, event, country\n",
    "                MERGE (event)-[:TAKES_PLACE {{Lat: coalesce(toFloat(row[56]), null), Lon: coalesce(toFloat(row[57]), null)}}]->(country)\n",
    "            }} IN TRANSACTIONS OF 1000 ROWS;\n",
    "        \"\"\"\n",
    "exec_write(create_event_country, \"20230101000000.translation.export.csv\", \"gdeltMono\")"
   ]
  },
  {
   "cell_type": "code",
   "execution_count": 19,
   "metadata": {},
   "outputs": [
    {
     "name": "stdout",
     "output_type": "stream",
     "text": [
      "Created 113 nodes and 0 relationships in 290 ms.\n"
     ]
    }
   ],
   "source": [
    "# Create actor1 node\n",
    "\n",
    "# actor1Name idex: 6\n",
    "# actor2Name idex: 16\n",
    "create_actor1 = \"\"\" \n",
    "            LOAD CSV FROM 'file:///{fn}' AS row FIELDTERMINATOR '\\t'\n",
    "            WITH row WHERE row[6] IS NOT NULL\n",
    "            CALL {{\n",
    "                WITH row\n",
    "                MERGE (:Actor {{Name:row[6]}})\n",
    "            }} IN TRANSACTIONS OF 1000 ROWS;\n",
    "        \"\"\"\n",
    "exec_write(create_actor1, \"20230101000000.translation.export.csv\", \"gdeltMono\")"
   ]
  },
  {
   "cell_type": "code",
   "execution_count": 20,
   "metadata": {},
   "outputs": [
    {
     "name": "stdout",
     "output_type": "stream",
     "text": [
      "Created 27 nodes and 0 relationships in 304 ms.\n"
     ]
    }
   ],
   "source": [
    "# Create actor2 node\n",
    "\n",
    "# actor1Name idex: 6\n",
    "# actor2Name idex: 16\n",
    "create_actor2 = \"\"\" \n",
    "            LOAD CSV FROM 'file:///{fn}' AS row FIELDTERMINATOR '\\t'\n",
    "            WITH row WHERE row[16] IS NOT NULL\n",
    "            CALL {{\n",
    "                WITH row\n",
    "                MERGE (:Actor {{Name:row[16]}})\n",
    "            }} IN TRANSACTIONS OF 1000 ROWS;\n",
    "        \"\"\"\n",
    "exec_write(create_actor2, \"20230101000000.translation.export.csv\", \"gdeltMono\")"
   ]
  },
  {
   "cell_type": "code",
   "execution_count": 21,
   "metadata": {},
   "outputs": [
    {
     "name": "stdout",
     "output_type": "stream",
     "text": [
      "Created 0 nodes and 280 relationships in 1075 ms.\n"
     ]
    }
   ],
   "source": [
    "# Create relationship between actor1 and event\n",
    "\n",
    "# actor1Name idex: 6\n",
    "# actor2Name idex: 16\n",
    "create_actor1_event = \"\"\"\n",
    "            LOAD CSV FROM 'file:///{fn}' AS row FIELDTERMINATOR '\\t'\n",
    "            WITH row WHERE row[6] IS NOT NULL\n",
    "            MATCH (event:Event {{GlobalEventID : row[0]}})\n",
    "            MATCH (actor:Actor {{Name : row[6]}})\n",
    "            CALL {{\n",
    "                WITH event, actor\n",
    "                MERGE (actor)-[:GENERATES]->(event)\n",
    "            }} IN TRANSACTIONS OF 1000 ROWS;\n",
    "        \"\"\"\n",
    "exec_write(create_actor1_event, \"20230101000000.translation.export.csv\", \"gdeltMono\")"
   ]
  },
  {
   "cell_type": "code",
   "execution_count": 22,
   "metadata": {},
   "outputs": [
    {
     "name": "stdout",
     "output_type": "stream",
     "text": [
      "Created 0 nodes and 198 relationships in 507 ms.\n"
     ]
    }
   ],
   "source": [
    "# Create relationship between event and actor2\n",
    "\n",
    "# actor1Name idex: 6\n",
    "# actor2Name idex: 16\n",
    "create_event_actor2 = \"\"\" \n",
    "            LOAD CSV FROM 'file:///{fn}' AS row FIELDTERMINATOR '\\t'\n",
    "            WITH row WHERE row[16] IS NOT NULL\n",
    "            MATCH (event:Event {{GlobalEventID : row[0]}})\n",
    "            MATCH (actor:Actor {{Name : row[16]}})\n",
    "            CALL {{\n",
    "                WITH event, actor\n",
    "                MERGE (event)-[:IMPACTS]->(actor)\n",
    "            }} IN TRANSACTIONS OF 1000 ROWS;\n",
    "        \"\"\"\n",
    "exec_write(create_event_actor2, \"20230101000000.translation.export.csv\", \"gdeltMono\")"
   ]
  },
  {
   "attachments": {},
   "cell_type": "markdown",
   "metadata": {},
   "source": [
    "# Create Mentions and Resources"
   ]
  },
  {
   "cell_type": "code",
   "execution_count": 30,
   "metadata": {},
   "outputs": [
    {
     "name": "stdout",
     "output_type": "stream",
     "text": [
      "Created 127 nodes and 0 relationships in 121 ms.\n"
     ]
    }
   ],
   "source": [
    "create_resource = \"\"\" \n",
    "            LOAD CSV FROM 'file:///{fn}' AS row FIELDTERMINATOR '\\t'\n",
    "            WITH row WHERE row[5] IS NOT NULL\n",
    "            CALL {{\n",
    "                WITH row\n",
    "                MERGE (:Resource {{OriginalID:row[5]}})\n",
    "            }} IN TRANSACTIONS OF 1000 ROWS;\n",
    "        \"\"\"\n",
    "exec_write(create_resource, \"20230101000000.translation.mentions.csv\", \"gdeltMono\")"
   ]
  },
  {
   "cell_type": "code",
   "execution_count": 31,
   "metadata": {},
   "outputs": [
    {
     "name": "stdout",
     "output_type": "stream",
     "text": [
      "Created 0 nodes and 357 relationships in 451 ms.\n"
     ]
    }
   ],
   "source": [
    "create_resource_event = \"\"\" \n",
    "            LOAD CSV FROM 'file:///{fn}' AS row FIELDTERMINATOR '\\t'\n",
    "            WITH row WHERE row[5] IS NOT NULL\n",
    "            CALL {{\n",
    "                WITH row\n",
    "                MATCH (event:Event {{GlobalEventID : row[0]}})\n",
    "                MATCH (resource:Resource {{OriginalID : row[5]}})\n",
    "                MERGE (resource)-[:MENTIONS {{Confidence:coalesce(toInteger(row[11]), 0)}}]->(event)\n",
    "            }} IN TRANSACTIONS OF 1000 ROWS;\n",
    "        \"\"\"\n",
    "exec_write(create_resource_event, \"20230101000000.translation.mentions.csv\", \"gdeltMono\")"
   ]
  },
  {
   "cell_type": "code",
   "execution_count": 14,
   "metadata": {},
   "outputs": [],
   "source": [
    "create_resource_h = \"\"\" \n",
    "            LOAD CSV WITH HEADERS FROM 'file:///{fn}' AS row FIELDTERMINATOR '\\t'\n",
    "            WITH row WHERE row.MentionIdentifier IS NOT NULL\n",
    "            CALL {{\n",
    "                WITH row\n",
    "                MERGE (:Resource {{OriginalID:row.MentionIdentifier}})\n",
    "            }} IN TRANSACTIONS OF 1000 ROWS;\n",
    "        \"\"\""
   ]
  },
  {
   "cell_type": "code",
   "execution_count": 17,
   "metadata": {},
   "outputs": [
    {
     "name": "stdout",
     "output_type": "stream",
     "text": [
      "Created 0 nodes and 0 relationships in 7453 ms.\n"
     ]
    }
   ],
   "source": [
    "exec_write(create_resource_h, \"batch_2021-01-01_000000_2021-03-01_010000_mentions.csv\", \"gdelt\")"
   ]
  },
  {
   "attachments": {},
   "cell_type": "markdown",
   "metadata": {},
   "source": [
    "# GKG"
   ]
  },
  {
   "cell_type": "code",
   "execution_count": 25,
   "metadata": {},
   "outputs": [
    {
     "name": "stdout",
     "output_type": "stream",
     "text": [
      "Created 1657 nodes and 0 relationships in 5867 ms.\n"
     ]
    }
   ],
   "source": [
    "create_themes = \"\"\" \n",
    "            LOAD CSV FROM 'file:///{fn}' AS row FIELDTERMINATOR '\\t'\n",
    "            WITH row WHERE row[7] IS NOT NULL\n",
    "            CALL {{\n",
    "                WITH row\n",
    "                UNWIND split(row[7], ';') as theme\n",
    "                MERGE (:Theme {{Name:theme}})\n",
    "            }} IN TRANSACTIONS OF 1000 ROWS;\n",
    "        \"\"\"\n",
    "exec_write(create_themes, \"20230101000000.translation.gkg.csv\", \"gdeltMono\")"
   ]
  },
  {
   "cell_type": "code",
   "execution_count": 27,
   "metadata": {},
   "outputs": [
    {
     "name": "stdout",
     "output_type": "stream",
     "text": [
      "Created 152 nodes and 0 relationships in 335 ms.\n"
     ]
    }
   ],
   "source": [
    "create_sources = \"\"\" \n",
    "            LOAD CSV FROM 'file:///{fn}' AS row FIELDTERMINATOR '\\t'\n",
    "            WITH row WHERE row[3] IS NOT NULL\n",
    "            CALL {{\n",
    "                WITH row\n",
    "                MERGE (:Source {{name:row[2], type:row[3]}})\n",
    "            }} IN TRANSACTIONS OF 1000 ROWS;\n",
    "        \"\"\"\n",
    "exec_write(create_sources, \"20230101000000.translation.gkg.csv\", \"gdeltMono\")"
   ]
  },
  {
   "cell_type": "code",
   "execution_count": 41,
   "metadata": {},
   "outputs": [
    {
     "name": "stdout",
     "output_type": "stream",
     "text": [
      "Created 0 nodes and 0 relationships and set 378 properties in 403 ms.\n"
     ]
    }
   ],
   "source": [
    "update_resource = \"\"\" \n",
    "            LOAD CSV FROM 'file:///{fn}' AS row FIELDTERMINATOR '\\t'\n",
    "            WITH row WHERE row[4] IS NOT NULL\n",
    "            CALL {{\n",
    "                WITH row\n",
    "                MATCH (r:Resource {{OriginalID:row[4]}})\n",
    "                SET r += {{Date: Datetime(substring(row[1], 0, 8)), OriginalLanguage:coalesce(row[-2], \"ENG\"), Tone:coalesce(toFloat(split(row[15], ',')[0]), 0.0)}}\n",
    "            }} IN TRANSACTIONS OF 1000 ROWS;\n",
    "        \"\"\"\n",
    "exec_write(update_resource, \"20230101000000.translation.gkg.csv\", \"gdeltMono\")"
   ]
  },
  {
   "cell_type": "code",
   "execution_count": 40,
   "metadata": {},
   "outputs": [
    {
     "name": "stdout",
     "output_type": "stream",
     "text": [
      "Created 0 nodes and 4260 relationships and set 0 properties in 16799 ms.\n"
     ]
    }
   ],
   "source": [
    "create_resource_themes = \"\"\" \n",
    "            LOAD CSV FROM 'file:///{fn}' AS row FIELDTERMINATOR '\\t'\n",
    "            WITH row WHERE row[7] IS NOT NULL AND row[4] IS NOT NULL\n",
    "            CALL {{\n",
    "                WITH row\n",
    "                UNWIND split(row[7], ';') as theme\n",
    "                MATCH (t:Theme {{Name:theme}})\n",
    "                MATCH (resource:Resource {{OriginalID : row[4]}})\n",
    "                MERGE (resource)-[:HAS]->(t)\n",
    "            }} IN TRANSACTIONS OF 1000 ROWS;\n",
    "        \"\"\"\n",
    "exec_write(create_resource_themes, \"20230101000000.translation.gkg.csv\", \"gdeltMono\")"
   ]
  }
 ],
 "metadata": {
  "kernelspec": {
   "display_name": "Python 3",
   "language": "python",
   "name": "python3"
  },
  "language_info": {
   "codemirror_mode": {
    "name": "ipython",
    "version": 3
   },
   "file_extension": ".py",
   "mimetype": "text/x-python",
   "name": "python",
   "nbconvert_exporter": "python",
   "pygments_lexer": "ipython3",
   "version": "3.8.10"
  },
  "orig_nbformat": 4,
  "vscode": {
   "interpreter": {
    "hash": "916dbcbb3f70747c44a77c7bcd40155683ae19c65e1c03b4aa3499c5328201f1"
   }
  }
 },
 "nbformat": 4,
 "nbformat_minor": 2
}
