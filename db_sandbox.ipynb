{
 "cells": [
  {
   "cell_type": "code",
   "execution_count": 1,
   "metadata": {},
   "outputs": [],
   "source": [
    "from neo4j import GraphDatabase\n",
    "import os\n",
    "# URI examples: \"neo4j://localhost\", \"neo4j+s://xxx.databases.neo4j.io\"\n"
   ]
  },
  {
   "cell_type": "code",
   "execution_count": 2,
   "metadata": {},
   "outputs": [
    {
     "ename": "ValueError",
     "evalue": "Cannot resolve address tp-hadoop-2:7687",
     "output_type": "error",
     "traceback": [
      "\u001b[0;31m---------------------------------------------------------------------------\u001b[0m",
      "\u001b[0;31mgaierror\u001b[0m                                  Traceback (most recent call last)",
      "\u001b[0;32m~/.local/lib/python3.8/site-packages/neo4j/_async_compat/network/_util.py\u001b[0m in \u001b[0;36m_dns_resolver\u001b[0;34m(address, family)\u001b[0m\n\u001b[1;32m    113\u001b[0m         \u001b[0;32mtry\u001b[0m\u001b[0;34m:\u001b[0m\u001b[0;34m\u001b[0m\u001b[0;34m\u001b[0m\u001b[0m\n\u001b[0;32m--> 114\u001b[0;31m             info = NetworkUtil.get_address_info(\n\u001b[0m\u001b[1;32m    115\u001b[0m                 \u001b[0maddress\u001b[0m\u001b[0;34m.\u001b[0m\u001b[0mhost\u001b[0m\u001b[0;34m,\u001b[0m \u001b[0maddress\u001b[0m\u001b[0;34m.\u001b[0m\u001b[0mport\u001b[0m\u001b[0;34m,\u001b[0m \u001b[0mfamily\u001b[0m\u001b[0;34m=\u001b[0m\u001b[0mfamily\u001b[0m\u001b[0;34m,\u001b[0m\u001b[0;34m\u001b[0m\u001b[0;34m\u001b[0m\u001b[0m\n",
      "\u001b[0;32m~/.local/lib/python3.8/site-packages/neo4j/_async_compat/network/_util.py\u001b[0m in \u001b[0;36mget_address_info\u001b[0;34m(host, port, family, type, proto, flags)\u001b[0m\n\u001b[1;32m    101\u001b[0m     \u001b[0;32mdef\u001b[0m \u001b[0mget_address_info\u001b[0m\u001b[0;34m(\u001b[0m\u001b[0mhost\u001b[0m\u001b[0;34m,\u001b[0m \u001b[0mport\u001b[0m\u001b[0;34m,\u001b[0m \u001b[0;34m*\u001b[0m\u001b[0;34m,\u001b[0m \u001b[0mfamily\u001b[0m\u001b[0;34m=\u001b[0m\u001b[0;36m0\u001b[0m\u001b[0;34m,\u001b[0m \u001b[0mtype\u001b[0m\u001b[0;34m=\u001b[0m\u001b[0;36m0\u001b[0m\u001b[0;34m,\u001b[0m \u001b[0mproto\u001b[0m\u001b[0;34m=\u001b[0m\u001b[0;36m0\u001b[0m\u001b[0;34m,\u001b[0m \u001b[0mflags\u001b[0m\u001b[0;34m=\u001b[0m\u001b[0;36m0\u001b[0m\u001b[0;34m)\u001b[0m\u001b[0;34m:\u001b[0m\u001b[0;34m\u001b[0m\u001b[0;34m\u001b[0m\u001b[0m\n\u001b[0;32m--> 102\u001b[0;31m         \u001b[0;32mreturn\u001b[0m \u001b[0msocket\u001b[0m\u001b[0;34m.\u001b[0m\u001b[0mgetaddrinfo\u001b[0m\u001b[0;34m(\u001b[0m\u001b[0mhost\u001b[0m\u001b[0;34m,\u001b[0m \u001b[0mport\u001b[0m\u001b[0;34m,\u001b[0m \u001b[0mfamily\u001b[0m\u001b[0;34m,\u001b[0m \u001b[0mtype\u001b[0m\u001b[0;34m,\u001b[0m \u001b[0mproto\u001b[0m\u001b[0;34m,\u001b[0m \u001b[0mflags\u001b[0m\u001b[0;34m)\u001b[0m\u001b[0;34m\u001b[0m\u001b[0;34m\u001b[0m\u001b[0m\n\u001b[0m\u001b[1;32m    103\u001b[0m \u001b[0;34m\u001b[0m\u001b[0m\n",
      "\u001b[0;32m/usr/lib/python3.8/socket.py\u001b[0m in \u001b[0;36mgetaddrinfo\u001b[0;34m(host, port, family, type, proto, flags)\u001b[0m\n\u001b[1;32m    917\u001b[0m     \u001b[0maddrlist\u001b[0m \u001b[0;34m=\u001b[0m \u001b[0;34m[\u001b[0m\u001b[0;34m]\u001b[0m\u001b[0;34m\u001b[0m\u001b[0;34m\u001b[0m\u001b[0m\n\u001b[0;32m--> 918\u001b[0;31m     \u001b[0;32mfor\u001b[0m \u001b[0mres\u001b[0m \u001b[0;32min\u001b[0m \u001b[0m_socket\u001b[0m\u001b[0;34m.\u001b[0m\u001b[0mgetaddrinfo\u001b[0m\u001b[0;34m(\u001b[0m\u001b[0mhost\u001b[0m\u001b[0;34m,\u001b[0m \u001b[0mport\u001b[0m\u001b[0;34m,\u001b[0m \u001b[0mfamily\u001b[0m\u001b[0;34m,\u001b[0m \u001b[0mtype\u001b[0m\u001b[0;34m,\u001b[0m \u001b[0mproto\u001b[0m\u001b[0;34m,\u001b[0m \u001b[0mflags\u001b[0m\u001b[0;34m)\u001b[0m\u001b[0;34m:\u001b[0m\u001b[0;34m\u001b[0m\u001b[0;34m\u001b[0m\u001b[0m\n\u001b[0m\u001b[1;32m    919\u001b[0m         \u001b[0maf\u001b[0m\u001b[0;34m,\u001b[0m \u001b[0msocktype\u001b[0m\u001b[0;34m,\u001b[0m \u001b[0mproto\u001b[0m\u001b[0;34m,\u001b[0m \u001b[0mcanonname\u001b[0m\u001b[0;34m,\u001b[0m \u001b[0msa\u001b[0m \u001b[0;34m=\u001b[0m \u001b[0mres\u001b[0m\u001b[0;34m\u001b[0m\u001b[0;34m\u001b[0m\u001b[0m\n",
      "\u001b[0;31mgaierror\u001b[0m: [Errno -2] Name or service not known",
      "\nDuring handling of the above exception, another exception occurred:\n",
      "\u001b[0;31mValueError\u001b[0m                                Traceback (most recent call last)",
      "\u001b[0;32m/tmp/ipykernel_676/2752481847.py\u001b[0m in \u001b[0;36m<module>\u001b[0;34m\u001b[0m\n\u001b[1;32m      3\u001b[0m \u001b[0;34m\u001b[0m\u001b[0m\n\u001b[1;32m      4\u001b[0m \u001b[0;32mwith\u001b[0m \u001b[0mGraphDatabase\u001b[0m\u001b[0;34m.\u001b[0m\u001b[0mdriver\u001b[0m\u001b[0;34m(\u001b[0m\u001b[0mURI\u001b[0m\u001b[0;34m,\u001b[0m \u001b[0mauth\u001b[0m\u001b[0;34m=\u001b[0m\u001b[0mAUTH\u001b[0m\u001b[0;34m)\u001b[0m \u001b[0;32mas\u001b[0m \u001b[0mdriver\u001b[0m\u001b[0;34m:\u001b[0m\u001b[0;34m\u001b[0m\u001b[0;34m\u001b[0m\u001b[0m\n\u001b[0;32m----> 5\u001b[0;31m     \u001b[0mdriver\u001b[0m\u001b[0;34m.\u001b[0m\u001b[0mverify_connectivity\u001b[0m\u001b[0;34m(\u001b[0m\u001b[0;34m)\u001b[0m\u001b[0;34m\u001b[0m\u001b[0;34m\u001b[0m\u001b[0m\n\u001b[0m",
      "\u001b[0;32m~/.local/lib/python3.8/site-packages/neo4j/_sync/driver.py\u001b[0m in \u001b[0;36mverify_connectivity\u001b[0;34m(self, **config)\u001b[0m\n\u001b[1;32m    529\u001b[0m                 )\n\u001b[1;32m    530\u001b[0m             \u001b[0;32mwith\u001b[0m \u001b[0mself\u001b[0m\u001b[0;34m.\u001b[0m\u001b[0msession\u001b[0m\u001b[0;34m(\u001b[0m\u001b[0;34m**\u001b[0m\u001b[0mconfig\u001b[0m\u001b[0;34m)\u001b[0m \u001b[0;32mas\u001b[0m \u001b[0msession\u001b[0m\u001b[0;34m:\u001b[0m\u001b[0;34m\u001b[0m\u001b[0;34m\u001b[0m\u001b[0m\n\u001b[0;32m--> 531\u001b[0;31m                 \u001b[0msession\u001b[0m\u001b[0;34m.\u001b[0m\u001b[0m_get_server_info\u001b[0m\u001b[0;34m(\u001b[0m\u001b[0;34m)\u001b[0m\u001b[0;34m\u001b[0m\u001b[0;34m\u001b[0m\u001b[0m\n\u001b[0m\u001b[1;32m    532\u001b[0m \u001b[0;34m\u001b[0m\u001b[0m\n\u001b[1;32m    533\u001b[0m     \u001b[0;32mif\u001b[0m \u001b[0mt\u001b[0m\u001b[0;34m.\u001b[0m\u001b[0mTYPE_CHECKING\u001b[0m\u001b[0;34m:\u001b[0m\u001b[0;34m\u001b[0m\u001b[0;34m\u001b[0m\u001b[0m\n",
      "\u001b[0;32m~/.local/lib/python3.8/site-packages/neo4j/_sync/work/session.py\u001b[0m in \u001b[0;36m_get_server_info\u001b[0;34m(self)\u001b[0m\n\u001b[1;32m    158\u001b[0m     \u001b[0;32mdef\u001b[0m \u001b[0m_get_server_info\u001b[0m\u001b[0;34m(\u001b[0m\u001b[0mself\u001b[0m\u001b[0;34m)\u001b[0m\u001b[0;34m:\u001b[0m\u001b[0;34m\u001b[0m\u001b[0;34m\u001b[0m\u001b[0m\n\u001b[1;32m    159\u001b[0m         \u001b[0;32massert\u001b[0m \u001b[0;32mnot\u001b[0m \u001b[0mself\u001b[0m\u001b[0;34m.\u001b[0m\u001b[0m_connection\u001b[0m\u001b[0;34m\u001b[0m\u001b[0;34m\u001b[0m\u001b[0m\n\u001b[0;32m--> 160\u001b[0;31m         \u001b[0mself\u001b[0m\u001b[0;34m.\u001b[0m\u001b[0m_connect\u001b[0m\u001b[0;34m(\u001b[0m\u001b[0mREAD_ACCESS\u001b[0m\u001b[0;34m,\u001b[0m \u001b[0mliveness_check_timeout\u001b[0m\u001b[0;34m=\u001b[0m\u001b[0;36m0\u001b[0m\u001b[0;34m)\u001b[0m\u001b[0;34m\u001b[0m\u001b[0;34m\u001b[0m\u001b[0m\n\u001b[0m\u001b[1;32m    161\u001b[0m         \u001b[0mserver_info\u001b[0m \u001b[0;34m=\u001b[0m \u001b[0mself\u001b[0m\u001b[0;34m.\u001b[0m\u001b[0m_connection\u001b[0m\u001b[0;34m.\u001b[0m\u001b[0mserver_info\u001b[0m\u001b[0;34m\u001b[0m\u001b[0;34m\u001b[0m\u001b[0m\n\u001b[1;32m    162\u001b[0m         \u001b[0mself\u001b[0m\u001b[0;34m.\u001b[0m\u001b[0m_disconnect\u001b[0m\u001b[0;34m(\u001b[0m\u001b[0;34m)\u001b[0m\u001b[0;34m\u001b[0m\u001b[0;34m\u001b[0m\u001b[0m\n",
      "\u001b[0;32m~/.local/lib/python3.8/site-packages/neo4j/_sync/work/session.py\u001b[0m in \u001b[0;36m_connect\u001b[0;34m(self, access_mode, **access_kwargs)\u001b[0m\n\u001b[1;32m    118\u001b[0m             \u001b[0maccess_mode\u001b[0m \u001b[0;34m=\u001b[0m \u001b[0mself\u001b[0m\u001b[0;34m.\u001b[0m\u001b[0m_config\u001b[0m\u001b[0;34m.\u001b[0m\u001b[0mdefault_access_mode\u001b[0m\u001b[0;34m\u001b[0m\u001b[0;34m\u001b[0m\u001b[0m\n\u001b[1;32m    119\u001b[0m         \u001b[0;32mtry\u001b[0m\u001b[0;34m:\u001b[0m\u001b[0;34m\u001b[0m\u001b[0;34m\u001b[0m\u001b[0m\n\u001b[0;32m--> 120\u001b[0;31m             \u001b[0msuper\u001b[0m\u001b[0;34m(\u001b[0m\u001b[0;34m)\u001b[0m\u001b[0;34m.\u001b[0m\u001b[0m_connect\u001b[0m\u001b[0;34m(\u001b[0m\u001b[0maccess_mode\u001b[0m\u001b[0;34m,\u001b[0m \u001b[0;34m**\u001b[0m\u001b[0maccess_kwargs\u001b[0m\u001b[0;34m)\u001b[0m\u001b[0;34m\u001b[0m\u001b[0;34m\u001b[0m\u001b[0m\n\u001b[0m\u001b[1;32m    121\u001b[0m         \u001b[0;32mexcept\u001b[0m \u001b[0masyncio\u001b[0m\u001b[0;34m.\u001b[0m\u001b[0mCancelledError\u001b[0m\u001b[0;34m:\u001b[0m\u001b[0;34m\u001b[0m\u001b[0;34m\u001b[0m\u001b[0m\n\u001b[1;32m    122\u001b[0m             \u001b[0mself\u001b[0m\u001b[0;34m.\u001b[0m\u001b[0m_handle_cancellation\u001b[0m\u001b[0;34m(\u001b[0m\u001b[0mmessage\u001b[0m\u001b[0;34m=\u001b[0m\u001b[0;34m\"_connect\"\u001b[0m\u001b[0;34m)\u001b[0m\u001b[0;34m\u001b[0m\u001b[0;34m\u001b[0m\u001b[0m\n",
      "\u001b[0;32m~/.local/lib/python3.8/site-packages/neo4j/_sync/work/workspace.py\u001b[0m in \u001b[0;36m_connect\u001b[0;34m(self, access_mode, **acquire_kwargs)\u001b[0m\n\u001b[1;32m    166\u001b[0m         }\n\u001b[1;32m    167\u001b[0m         \u001b[0macquire_kwargs_\u001b[0m\u001b[0;34m.\u001b[0m\u001b[0mupdate\u001b[0m\u001b[0;34m(\u001b[0m\u001b[0macquire_kwargs\u001b[0m\u001b[0;34m)\u001b[0m\u001b[0;34m\u001b[0m\u001b[0;34m\u001b[0m\u001b[0m\n\u001b[0;32m--> 168\u001b[0;31m         \u001b[0mself\u001b[0m\u001b[0;34m.\u001b[0m\u001b[0m_connection\u001b[0m \u001b[0;34m=\u001b[0m \u001b[0mself\u001b[0m\u001b[0;34m.\u001b[0m\u001b[0m_pool\u001b[0m\u001b[0;34m.\u001b[0m\u001b[0macquire\u001b[0m\u001b[0;34m(\u001b[0m\u001b[0;34m**\u001b[0m\u001b[0macquire_kwargs_\u001b[0m\u001b[0;34m)\u001b[0m\u001b[0;34m\u001b[0m\u001b[0;34m\u001b[0m\u001b[0m\n\u001b[0m\u001b[1;32m    169\u001b[0m         \u001b[0mself\u001b[0m\u001b[0;34m.\u001b[0m\u001b[0m_connection_access_mode\u001b[0m \u001b[0;34m=\u001b[0m \u001b[0maccess_mode\u001b[0m\u001b[0;34m\u001b[0m\u001b[0;34m\u001b[0m\u001b[0m\n\u001b[1;32m    170\u001b[0m \u001b[0;34m\u001b[0m\u001b[0m\n",
      "\u001b[0;32m~/.local/lib/python3.8/site-packages/neo4j/_sync/io/_pool.py\u001b[0m in \u001b[0;36macquire\u001b[0;34m(self, access_mode, timeout, database, bookmarks, liveness_check_timeout)\u001b[0m\n\u001b[1;32m    796\u001b[0m                 \u001b[0mdeadline\u001b[0m \u001b[0;34m=\u001b[0m \u001b[0mDeadline\u001b[0m\u001b[0;34m.\u001b[0m\u001b[0mfrom_timeout_or_deadline\u001b[0m\u001b[0;34m(\u001b[0m\u001b[0mtimeout\u001b[0m\u001b[0;34m)\u001b[0m\u001b[0;34m\u001b[0m\u001b[0;34m\u001b[0m\u001b[0m\n\u001b[1;32m    797\u001b[0m                 \u001b[0;31m# should always be a resolved address\u001b[0m\u001b[0;34m\u001b[0m\u001b[0;34m\u001b[0m\u001b[0;34m\u001b[0m\u001b[0m\n\u001b[0;32m--> 798\u001b[0;31m                 connection = self._acquire(\n\u001b[0m\u001b[1;32m    799\u001b[0m                     \u001b[0maddress\u001b[0m\u001b[0;34m,\u001b[0m \u001b[0mdeadline\u001b[0m\u001b[0;34m,\u001b[0m \u001b[0mliveness_check_timeout\u001b[0m\u001b[0;34m\u001b[0m\u001b[0;34m\u001b[0m\u001b[0m\n\u001b[1;32m    800\u001b[0m                 )\n",
      "\u001b[0;32m~/.local/lib/python3.8/site-packages/neo4j/_sync/io/_pool.py\u001b[0m in \u001b[0;36m_acquire\u001b[0;34m(self, address, deadline, liveness_check_timeout)\u001b[0m\n\u001b[1;32m    219\u001b[0m                     )\n\u001b[1;32m    220\u001b[0m         \u001b[0mlog\u001b[0m\u001b[0;34m.\u001b[0m\u001b[0mdebug\u001b[0m\u001b[0;34m(\u001b[0m\u001b[0;34m\"[#0000]  _: <POOL> trying to hand out new connection\"\u001b[0m\u001b[0;34m)\u001b[0m\u001b[0;34m\u001b[0m\u001b[0;34m\u001b[0m\u001b[0m\n\u001b[0;32m--> 221\u001b[0;31m         \u001b[0;32mreturn\u001b[0m \u001b[0mconnection_creator\u001b[0m\u001b[0;34m(\u001b[0m\u001b[0;34m)\u001b[0m\u001b[0;34m\u001b[0m\u001b[0;34m\u001b[0m\u001b[0m\n\u001b[0m\u001b[1;32m    222\u001b[0m \u001b[0;34m\u001b[0m\u001b[0m\n\u001b[1;32m    223\u001b[0m     \u001b[0;34m@\u001b[0m\u001b[0mabc\u001b[0m\u001b[0;34m.\u001b[0m\u001b[0mabstractmethod\u001b[0m\u001b[0;34m\u001b[0m\u001b[0;34m\u001b[0m\u001b[0m\n",
      "\u001b[0;32m~/.local/lib/python3.8/site-packages/neo4j/_sync/io/_pool.py\u001b[0m in \u001b[0;36mconnection_creator\u001b[0;34m()\u001b[0m\n\u001b[1;32m    136\u001b[0m             \u001b[0;32mtry\u001b[0m\u001b[0;34m:\u001b[0m\u001b[0;34m\u001b[0m\u001b[0;34m\u001b[0m\u001b[0m\n\u001b[1;32m    137\u001b[0m                 \u001b[0;32mtry\u001b[0m\u001b[0;34m:\u001b[0m\u001b[0;34m\u001b[0m\u001b[0;34m\u001b[0m\u001b[0m\n\u001b[0;32m--> 138\u001b[0;31m                     connection = self.opener(\n\u001b[0m\u001b[1;32m    139\u001b[0m                         \u001b[0maddress\u001b[0m\u001b[0;34m,\u001b[0m \u001b[0mdeadline\u001b[0m\u001b[0;34m.\u001b[0m\u001b[0mto_timeout\u001b[0m\u001b[0;34m(\u001b[0m\u001b[0;34m)\u001b[0m\u001b[0;34m\u001b[0m\u001b[0;34m\u001b[0m\u001b[0m\n\u001b[1;32m    140\u001b[0m                     )\n",
      "\u001b[0;32m~/.local/lib/python3.8/site-packages/neo4j/_sync/io/_pool.py\u001b[0m in \u001b[0;36mopener\u001b[0;34m(addr, timeout)\u001b[0m\n\u001b[1;32m    439\u001b[0m \u001b[0;34m\u001b[0m\u001b[0m\n\u001b[1;32m    440\u001b[0m         \u001b[0;32mdef\u001b[0m \u001b[0mopener\u001b[0m\u001b[0;34m(\u001b[0m\u001b[0maddr\u001b[0m\u001b[0;34m,\u001b[0m \u001b[0mtimeout\u001b[0m\u001b[0;34m)\u001b[0m\u001b[0;34m:\u001b[0m\u001b[0;34m\u001b[0m\u001b[0;34m\u001b[0m\u001b[0m\n\u001b[0;32m--> 441\u001b[0;31m             return Bolt.open(\n\u001b[0m\u001b[1;32m    442\u001b[0m                 \u001b[0maddr\u001b[0m\u001b[0;34m,\u001b[0m \u001b[0mauth\u001b[0m\u001b[0;34m=\u001b[0m\u001b[0mauth\u001b[0m\u001b[0;34m,\u001b[0m \u001b[0mtimeout\u001b[0m\u001b[0;34m=\u001b[0m\u001b[0mtimeout\u001b[0m\u001b[0;34m,\u001b[0m\u001b[0;34m\u001b[0m\u001b[0;34m\u001b[0m\u001b[0m\n\u001b[1;32m    443\u001b[0m                 \u001b[0mrouting_context\u001b[0m\u001b[0;34m=\u001b[0m\u001b[0mrouting_context\u001b[0m\u001b[0;34m,\u001b[0m \u001b[0mpool_config\u001b[0m\u001b[0;34m=\u001b[0m\u001b[0mpool_config\u001b[0m\u001b[0;34m\u001b[0m\u001b[0;34m\u001b[0m\u001b[0m\n",
      "\u001b[0;32m~/.local/lib/python3.8/site-packages/neo4j/_sync/io/_bolt.py\u001b[0m in \u001b[0;36mopen\u001b[0;34m(cls, address, auth, timeout, routing_context, pool_config)\u001b[0m\n\u001b[1;32m    320\u001b[0m                                             time_remaining())\n\u001b[1;32m    321\u001b[0m         \u001b[0ms\u001b[0m\u001b[0;34m,\u001b[0m \u001b[0mpool_config\u001b[0m\u001b[0;34m.\u001b[0m\u001b[0mprotocol_version\u001b[0m\u001b[0;34m,\u001b[0m \u001b[0mhandshake\u001b[0m\u001b[0;34m,\u001b[0m \u001b[0mdata\u001b[0m \u001b[0;34m=\u001b[0m\u001b[0;31m \u001b[0m\u001b[0;31m\\\u001b[0m\u001b[0;34m\u001b[0m\u001b[0;34m\u001b[0m\u001b[0m\n\u001b[0;32m--> 322\u001b[0;31m             BoltSocket.connect(\n\u001b[0m\u001b[1;32m    323\u001b[0m                 \u001b[0maddress\u001b[0m\u001b[0;34m,\u001b[0m\u001b[0;34m\u001b[0m\u001b[0;34m\u001b[0m\u001b[0m\n\u001b[1;32m    324\u001b[0m                 \u001b[0mtimeout\u001b[0m\u001b[0;34m=\u001b[0m\u001b[0msocket_connection_timeout\u001b[0m\u001b[0;34m,\u001b[0m\u001b[0;34m\u001b[0m\u001b[0;34m\u001b[0m\u001b[0m\n",
      "\u001b[0;32m~/.local/lib/python3.8/site-packages/neo4j/_async_compat/network/_bolt_socket.py\u001b[0m in \u001b[0;36mconnect\u001b[0;34m(cls, address, timeout, custom_resolver, ssl_context, keep_alive)\u001b[0m\n\u001b[1;32m    647\u001b[0m             \u001b[0maddressing\u001b[0m\u001b[0;34m.\u001b[0m\u001b[0mAddress\u001b[0m\u001b[0;34m(\u001b[0m\u001b[0maddress\u001b[0m\u001b[0;34m)\u001b[0m\u001b[0;34m,\u001b[0m \u001b[0mresolver\u001b[0m\u001b[0;34m=\u001b[0m\u001b[0mcustom_resolver\u001b[0m\u001b[0;34m\u001b[0m\u001b[0;34m\u001b[0m\u001b[0m\n\u001b[1;32m    648\u001b[0m         )\n\u001b[0;32m--> 649\u001b[0;31m         \u001b[0;32mfor\u001b[0m \u001b[0mresolved_address\u001b[0m \u001b[0;32min\u001b[0m \u001b[0mresolved_addresses\u001b[0m\u001b[0;34m:\u001b[0m\u001b[0;34m\u001b[0m\u001b[0;34m\u001b[0m\u001b[0m\n\u001b[0m\u001b[1;32m    650\u001b[0m             \u001b[0ms\u001b[0m \u001b[0;34m=\u001b[0m \u001b[0;32mNone\u001b[0m\u001b[0;34m\u001b[0m\u001b[0;34m\u001b[0m\u001b[0m\n\u001b[1;32m    651\u001b[0m             \u001b[0;32mtry\u001b[0m\u001b[0;34m:\u001b[0m\u001b[0;34m\u001b[0m\u001b[0;34m\u001b[0m\u001b[0m\n",
      "\u001b[0;32m~/.local/lib/python3.8/site-packages/neo4j/_async_compat/network/_util.py\u001b[0m in \u001b[0;36mresolve_address\u001b[0;34m(address, family, resolver)\u001b[0m\n\u001b[1;32m    155\u001b[0m                     \u001b[0;32myield\u001b[0m \u001b[0mresolved_address\u001b[0m\u001b[0;34m\u001b[0m\u001b[0;34m\u001b[0m\u001b[0m\n\u001b[1;32m    156\u001b[0m         \u001b[0;32melse\u001b[0m\u001b[0;34m:\u001b[0m\u001b[0;34m\u001b[0m\u001b[0;34m\u001b[0m\u001b[0m\n\u001b[0;32m--> 157\u001b[0;31m             for resolved_address in NetworkUtil._dns_resolver(\n\u001b[0m\u001b[1;32m    158\u001b[0m                 \u001b[0maddress\u001b[0m\u001b[0;34m,\u001b[0m \u001b[0mfamily\u001b[0m\u001b[0;34m=\u001b[0m\u001b[0mfamily\u001b[0m\u001b[0;34m\u001b[0m\u001b[0;34m\u001b[0m\u001b[0m\n\u001b[1;32m    159\u001b[0m             ):\n",
      "\u001b[0;32m~/.local/lib/python3.8/site-packages/neo4j/_async_compat/network/_util.py\u001b[0m in \u001b[0;36m_dns_resolver\u001b[0;34m(address, family)\u001b[0m\n\u001b[1;32m    117\u001b[0m             )\n\u001b[1;32m    118\u001b[0m         \u001b[0;32mexcept\u001b[0m \u001b[0mOSError\u001b[0m\u001b[0;34m:\u001b[0m\u001b[0;34m\u001b[0m\u001b[0;34m\u001b[0m\u001b[0m\n\u001b[0;32m--> 119\u001b[0;31m             \u001b[0;32mraise\u001b[0m \u001b[0mValueError\u001b[0m\u001b[0;34m(\u001b[0m\u001b[0;34m\"Cannot resolve address {}\"\u001b[0m\u001b[0;34m.\u001b[0m\u001b[0mformat\u001b[0m\u001b[0;34m(\u001b[0m\u001b[0maddress\u001b[0m\u001b[0;34m)\u001b[0m\u001b[0;34m)\u001b[0m\u001b[0;34m\u001b[0m\u001b[0;34m\u001b[0m\u001b[0m\n\u001b[0m\u001b[1;32m    120\u001b[0m         \u001b[0;32mreturn\u001b[0m \u001b[0m_resolved_addresses_from_info\u001b[0m\u001b[0;34m(\u001b[0m\u001b[0minfo\u001b[0m\u001b[0;34m,\u001b[0m \u001b[0maddress\u001b[0m\u001b[0;34m.\u001b[0m\u001b[0mhost_name\u001b[0m\u001b[0;34m)\u001b[0m\u001b[0;34m\u001b[0m\u001b[0;34m\u001b[0m\u001b[0m\n\u001b[1;32m    121\u001b[0m \u001b[0;34m\u001b[0m\u001b[0m\n",
      "\u001b[0;31mValueError\u001b[0m: Cannot resolve address tp-hadoop-2:7687"
     ]
    }
   ],
   "source": [
    "URI = \"neo4j://localhost:7687\"\n",
    "AUTH = (\"neo4j\", \"azerty92\")\n",
    "\n",
    "with GraphDatabase.driver(URI, auth=AUTH) as driver: \n",
    "    driver.verify_connectivity()"
   ]
  },
  {
   "cell_type": "code",
   "execution_count": 17,
   "metadata": {},
   "outputs": [],
   "source": [
    "def count_row(tx, fn):  \n",
    "    result = tx.run(\n",
    "        f\"\"\"\n",
    "        LOAD CSV WITH HEADERS FROM 'file:///{fn}' AS row\n",
    "        RETURN COUNT(row)\n",
    "        \"\"\" \n",
    "    )\n",
    "    count = result.fetch(1)\n",
    "    summary = result.consume()\n",
    "    return count, summary\n",
    "\n",
    "def exec_write(query, csv_filename, db):\n",
    "    # Execute a write query in the provided DB from a csv\n",
    "    with driver.session(database=db) as session:\n",
    "        summary = session.run(query.format(fn=csv_filename)).consume()\n",
    "\n",
    "        print(\"Created {nodes_created} nodes and {relationship_created} relationships and set {properties_set} properties in {time} ms.\".format(\n",
    "            nodes_created=summary.counters.nodes_created,\n",
    "            properties_set=summary.counters.properties_set,\n",
    "            relationship_created=summary.counters.relationships_created,\n",
    "            time=summary.result_available_after\n",
    "        ))"
   ]
  },
  {
   "cell_type": "code",
   "execution_count": 18,
   "metadata": {},
   "outputs": [
    {
     "name": "stdout",
     "output_type": "stream",
     "text": [
      "Created 279 nodes and 0 relationships and set 558 properties in 204 ms.\n"
     ]
    }
   ],
   "source": [
    "create_country = \"\"\"\n",
    "LOAD CSV WITH HEADERS FROM 'file:///{fn}' AS row \n",
    "WITH row WHERE row.FIPS IS NOT NULL \n",
    "MERGE (c:Country {{FIPS: row.FIPS, name: row.Name}});  \n",
    "\"\"\"\n",
    "exec_write(create_country, \"fips.csv\", \"gdelt\")"
   ]
  },
  {
   "attachments": {},
   "cell_type": "markdown",
   "metadata": {},
   "source": [
    "# Create Events and actors"
   ]
  },
  {
   "cell_type": "code",
   "execution_count": 17,
   "metadata": {},
   "outputs": [
    {
     "name": "stdout",
     "output_type": "stream",
     "text": [
      "Created 0 nodes in 1059 ms.\n",
      "[<Record COUNT(row)=332>]\n"
     ]
    }
   ],
   "source": [
    "# Count lines in csv\n",
    "with driver.session(database=\"gdelt\") as session:\n",
    "    count, summary = session.execute_write(count_row, fn='batch_2022-01-01_00:00:00_2022-01-14_23:45:00_export.csv')  \n",
    "\n",
    "    print(\"Created {nodes_created} nodes in {time} ms.\".format(\n",
    "        nodes_created=summary.counters.nodes_created,\n",
    "        time=summary.result_available_after\n",
    "    ))\n",
    "    print(count)"
   ]
  },
  {
   "cell_type": "code",
   "execution_count": 6,
   "metadata": {},
   "outputs": [
    {
     "name": "stdout",
     "output_type": "stream",
     "text": [
      "Created 1912585 nodes and 0 relationships and set 5737755 properties in 58446 ms.\n"
     ]
    }
   ],
   "source": [
    "# Create event nodes\n",
    "create_event = \"\"\"\n",
    "LOAD CSV WITH HEADERS FROM 'file:///{fn}' AS row\n",
    "WITH row WHERE row.GlobalEventID IS NOT NULL\n",
    "CALL {{\n",
    "    WITH row\n",
    "    MERGE (event:Event {{globalEventID:row.GlobalEventID}})\n",
    "    ON CREATE\n",
    "    SET\n",
    "        event.date = Datetime(row.Day),\n",
    "        event.type = row.EventCode\n",
    "}} IN TRANSACTIONS OF 15000 ROWS;\n",
    "\"\"\"\n",
    "\n",
    "exec_write(create_event, \"batch_2022-01-01_00:00:00_2022-01-14_23:45:00_export.csv\", \"gdelt\")"
   ]
  },
  {
   "cell_type": "code",
   "execution_count": 9,
   "metadata": {},
   "outputs": [
    {
     "name": "stdout",
     "output_type": "stream",
     "text": [
      "Created 0 nodes and 1840425 relationships and set 3680710 properties in 171950 ms.\n"
     ]
    }
   ],
   "source": [
    "# Create relationship between event and country\n",
    "\n",
    "create_event_country = \"\"\"\n",
    "LOAD CSV WITH HEADERS FROM 'file:///{fn}' AS row\n",
    "WITH row, COALESCE(row.ActionGeo_Lat, null) AS latitude, COALESCE(row.ActionGeo_Long, null) AS longitude\n",
    "WHERE row.ActionGeo_CountryCode IS NOT NULL\n",
    "CALL {{\n",
    "    WITH row, latitude, longitude\n",
    "    MATCH (event:Event {{globalEventID : row.GlobalEventID}})\n",
    "    MATCH (country:Country {{FIPS : row.ActionGeo_CountryCode}})\n",
    "    CREATE (event)-[:TAKES_PLACE {{lat: toFloat(latitude), lon: toFloat(longitude)}}]->(country)\n",
    "}} IN TRANSACTIONS OF 15000 ROWS;\n",
    "\"\"\"\n",
    "exec_write(create_event_country, \"batch_2022-01-01_00:00:00_2022-01-14_23:45:00_export.csv\", \"gdelt\")"
   ]
  },
  {
   "cell_type": "code",
   "execution_count": 10,
   "metadata": {},
   "outputs": [
    {
     "name": "stdout",
     "output_type": "stream",
     "text": [
      "Created 5491 nodes and 0 relationships and set 5491 properties in 12722 ms.\n"
     ]
    }
   ],
   "source": [
    "# Create actor1 node\n",
    "\n",
    "# actor1Name idex: 6\n",
    "# actor2Name idex: 16\n",
    "create_actor1 = \"\"\" \n",
    "            LOAD CSV WITH HEADERS FROM 'file:///{fn}' AS row\n",
    "            WITH row WHERE row.Actor1Name IS NOT NULL\n",
    "            CALL {{\n",
    "                WITH row\n",
    "                MERGE (:Actor {{name:row.Actor1Name}})\n",
    "            }} IN TRANSACTIONS OF 15000 ROWS;\n",
    "        \"\"\"\n",
    "exec_write(create_actor1, \"batch_2022-01-01_00:00:00_2022-01-14_23:45:00_export.csv\", \"gdelt\")"
   ]
  },
  {
   "cell_type": "code",
   "execution_count": 12,
   "metadata": {},
   "outputs": [
    {
     "name": "stdout",
     "output_type": "stream",
     "text": [
      "Created 407 nodes and 0 relationships and set 407 properties in 11062 ms.\n"
     ]
    }
   ],
   "source": [
    "# Create actor2 node\n",
    "\n",
    "# actor1Name idex: 6\n",
    "# actor2Name idex: 16\n",
    "create_actor2 = \"\"\" \n",
    "            LOAD CSV WITH HEADERS FROM 'file:///{fn}' AS row\n",
    "            WITH row WHERE row.Actor2Name IS NOT NULL\n",
    "            CALL {{\n",
    "                WITH row\n",
    "                MERGE (:Actor {{name:row.Actor2Name}})\n",
    "            }} IN TRANSACTIONS OF 15000 ROWS;\n",
    "        \"\"\"\n",
    "exec_write(create_actor2, \"batch_2022-01-01_00:00:00_2022-01-14_23:45:00_export.csv\", \"gdelt\")"
   ]
  },
  {
   "cell_type": "code",
   "execution_count": 13,
   "metadata": {},
   "outputs": [
    {
     "name": "stdout",
     "output_type": "stream",
     "text": [
      "Created 0 nodes and 1704299 relationships and set 1704299 properties in 72534 ms.\n"
     ]
    }
   ],
   "source": [
    "# Create relationship between actor1 and event\n",
    "\n",
    "# actor1Name idex: 6\n",
    "# actor2Name idex: 16\n",
    "create_actor1_event = \"\"\"\n",
    "            LOAD CSV WITH HEADERS FROM 'file:///{fn}' AS row\n",
    "            WITH row WHERE row.Actor1Name IS NOT NULL\n",
    "            CALL {{\n",
    "                WITH row\n",
    "                MATCH (event:Event {{globalEventID : row.GlobalEventID}})\n",
    "                MATCH (actor:Actor {{name : row.Actor1Name}})\n",
    "                MERGE (actor)-[:ACTS_IN {{actor_type:1}}]->(event)\n",
    "            }} IN TRANSACTIONS OF 15000 ROWS;\n",
    "        \"\"\"\n",
    "exec_write(create_actor1_event, \"batch_2022-01-01_00:00:00_2022-01-14_23:45:00_export.csv\", \"gdelt\")"
   ]
  },
  {
   "cell_type": "code",
   "execution_count": 14,
   "metadata": {},
   "outputs": [
    {
     "name": "stdout",
     "output_type": "stream",
     "text": [
      "Created 0 nodes and 1266050 relationships and set 1266050 properties in 55506 ms.\n"
     ]
    }
   ],
   "source": [
    "# Create relationship between event and actor2\n",
    "\n",
    "# actor1Name idex: 6\n",
    "# actor2Name idex: 16\n",
    "create_event_actor2 = \"\"\"\n",
    "            LOAD CSV WITH HEADERS FROM 'file:///{fn}' AS row\n",
    "            WITH row WHERE row.Actor2Name IS NOT NULL\n",
    "            CALL {{\n",
    "                WITH row\n",
    "                MATCH (event:Event {{globalEventID : row.GlobalEventID}})\n",
    "                MATCH (actor:Actor {{name : row.Actor2Name}})\n",
    "                MERGE (actor)-[:ACTS_IN {{actor_type:2}}]->(event)\n",
    "            }} IN TRANSACTIONS OF 15000 ROWS;\n",
    "        \"\"\"\n",
    "exec_write(create_event_actor2, \"batch_2022-01-01_00:00:00_2022-01-14_23:45:00_export.csv\", \"gdelt\")"
   ]
  },
  {
   "attachments": {},
   "cell_type": "markdown",
   "metadata": {},
   "source": [
    "# Create Mentions and Resources"
   ]
  },
  {
   "cell_type": "code",
   "execution_count": 6,
   "metadata": {},
   "outputs": [
    {
     "name": "stdout",
     "output_type": "stream",
     "text": [
      "Created 2579007 nodes and 0 relationships and set 2579007 properties in 151241 ms.\n"
     ]
    }
   ],
   "source": [
    "create_resource = \"\"\" \n",
    "            LOAD CSV WITH HEADERS FROM 'file:///{fn}' AS row\n",
    "            WITH row WHERE row.MentionIdentifier IS NOT NULL\n",
    "            CALL {{\n",
    "                WITH row\n",
    "                MERGE (:Resource {{originalID:row.MentionIdentifier}})\n",
    "            }} IN TRANSACTIONS OF 15000 ROWS;\n",
    "        \"\"\"\n",
    "exec_write(create_resource, \"batch_2022-01-01_00:00:00_2022-02-01_00:00:00_mentions.csv\", \"gdelt\")"
   ]
  },
  {
   "cell_type": "code",
   "execution_count": 7,
   "metadata": {},
   "outputs": [
    {
     "name": "stdout",
     "output_type": "stream",
     "text": [
      "Created 0 nodes and 11286181 relationships and set 22572362 properties in 529587 ms.\n"
     ]
    }
   ],
   "source": [
    "create_resource_event = \"\"\" \n",
    "            LOAD CSV WITH HEADERS FROM 'file:///{fn}' AS row\n",
    "            WITH row WHERE row.MentionIdentifier IS NOT NULL AND row.GlobalEventID IS NOT NULL\n",
    "            CALL {{\n",
    "                WITH row\n",
    "                MATCH (event:Event {{globalEventID : row.GlobalEventID}})\n",
    "                MATCH (resource:Resource {{originalID : row.MentionIdentifier}})\n",
    "                CREATE (resource)-[:MENTIONS {{date:Datetime(substring(row.EventTimeDate, 0, 8)), confidence:coalesce(toInteger(row.Confidence), 0)}}]->(event)\n",
    "            }} IN TRANSACTIONS OF 15000 ROWS;\n",
    "        \"\"\"\n",
    "exec_write(create_resource_event, \"batch_2022-01-01_00:00:00_2022-02-01_00:00:00_mentions.csv\", \"gdelt\")"
   ]
  },
  {
   "attachments": {},
   "cell_type": "markdown",
   "metadata": {},
   "source": [
    "# GKG"
   ]
  },
  {
   "cell_type": "code",
   "execution_count": 10,
   "metadata": {},
   "outputs": [
    {
     "name": "stdout",
     "output_type": "stream",
     "text": [
      "Created 14858 nodes and 0 relationships and set 14858 properties in 117858 ms.\n"
     ]
    }
   ],
   "source": [
    "create_themes = \"\"\" \n",
    "            LOAD CSV WITH HEADERS FROM 'file:///{fn}' AS row\n",
    "            WITH row WHERE row.Themes IS NOT NULL\n",
    "            CALL {{\n",
    "                WITH row\n",
    "                UNWIND split(row.Themes, ';') as theme\n",
    "                MERGE (:Theme {{name:theme}})\n",
    "            }} IN TRANSACTIONS OF 15000 ROWS;\n",
    "        \"\"\"\n",
    "exec_write(create_themes, \"batch_2022-01-01_000000_2022-01-05_234500_gkg.csv\", \"gdelt\")"
   ]
  },
  {
   "cell_type": "code",
   "execution_count": 11,
   "metadata": {},
   "outputs": [
    {
     "name": "stdout",
     "output_type": "stream",
     "text": [
      "Created 16284 nodes and 0 relationships and set 32568 properties in 16618 ms.\n"
     ]
    }
   ],
   "source": [
    "create_sources = \"\"\" \n",
    "            LOAD CSV WITH HEADERS FROM 'file:///{fn}' AS row\n",
    "            WITH row WHERE row.SourceCommonName IS NOT NULL\n",
    "            CALL {{\n",
    "                WITH row\n",
    "                MERGE (:Source {{name:row.SourceCommonName, type:row.SourceCollectionIdentifier}})\n",
    "            }} IN TRANSACTIONS OF 15000 ROWS;\n",
    "        \"\"\"\n",
    "exec_write(create_sources, \"batch_2022-01-01_000000_2022-01-05_234500_gkg.csv\", \"gdelt\")"
   ]
  },
  {
   "cell_type": "code",
   "execution_count": 12,
   "metadata": {},
   "outputs": [
    {
     "name": "stdout",
     "output_type": "stream",
     "text": [
      "Created 0 nodes and 0 relationships and set 1056903 properties in 41496 ms.\n"
     ]
    }
   ],
   "source": [
    "update_resource = \"\"\" \n",
    "            LOAD CSV WITH HEADERS FROM 'file:///{fn}' AS row\n",
    "            WITH row WHERE row.DocumentIdentifier IS NOT NULL\n",
    "            CALL {{\n",
    "                WITH row\n",
    "                MATCH (r:Resource {{originalID:row.DocumentIdentifier}})\n",
    "                SET r += {{date: Datetime(substring(row.DATE, 0, 8)),\n",
    "                            originalLanguage:coalesce(row.TranslationInfo, \"eng\"),\n",
    "                            tone:coalesce(toFloat(split(row.V2Tone, ',')[0]), 0.0),\n",
    "                            themes:coalesce(row.Themes, null)}}\n",
    "            }} IN TRANSACTIONS OF 15000 ROWS;\n",
    "        \"\"\"\n",
    "exec_write(update_resource, \"batch_2022-01-01_000000_2022-01-05_234500_gkg.csv\", \"gdelt\")"
   ]
  },
  {
   "cell_type": "code",
   "execution_count": 13,
   "metadata": {},
   "outputs": [
    {
     "name": "stdout",
     "output_type": "stream",
     "text": [
      "Created 0 nodes and 12063421 relationships and set 0 properties in 706546 ms.\n"
     ]
    }
   ],
   "source": [
    "create_resource_themes = \"\"\" \n",
    "            LOAD CSV WITH HEADERS FROM 'file:///{fn}' AS row\n",
    "            WITH row WHERE row.Themes IS NOT NULL AND row.DocumentIdentifier IS NOT NULL\n",
    "            CALL {{\n",
    "                WITH row\n",
    "                UNWIND split(row.Themes, ';') as theme\n",
    "                MATCH (t:Theme {{name:theme}})\n",
    "                MATCH (resource:Resource {{originalID : row.DocumentIdentifier}})\n",
    "                CREATE (resource)-[:HAS]->(t)\n",
    "            }} IN TRANSACTIONS OF 15000 ROWS;\n",
    "        \"\"\"\n",
    "exec_write(create_resource_themes, \"batch_2022-01-01_000000_2022-01-05_234500_gkg.csv\", \"gdelt\")"
   ]
  },
  {
   "cell_type": "code",
   "execution_count": 14,
   "metadata": {},
   "outputs": [
    {
     "name": "stdout",
     "output_type": "stream",
     "text": [
      "Created 0 nodes and 352290 relationships and set 0 properties in 53265 ms.\n"
     ]
    }
   ],
   "source": [
    "create_source_resource = \"\"\" \n",
    "            LOAD CSV WITH HEADERS FROM 'file:///{fn}' AS row\n",
    "            WITH row WHERE row.SourceCommonName IS NOT NULL\n",
    "            CALL {{\n",
    "                WITH row\n",
    "                MATCH (source:Source {{name:row.SourceCommonName}})\n",
    "                MATCH (resource:Resource {{originalID : row.DocumentIdentifier}})\n",
    "                CREATE (source)-[:PUBLISH]->(resource)\n",
    "            }} IN TRANSACTIONS OF 15000 ROWS;\n",
    "        \"\"\"\n",
    "exec_write(create_source_resource, \"batch_2022-01-01_000000_2022-01-05_234500_gkg.csv\", \"gdelt\")"
   ]
  },
  {
   "attachments": {},
   "cell_type": "markdown",
   "metadata": {},
   "source": [
    "# Index"
   ]
  },
  {
   "cell_type": "code",
   "execution_count": null,
   "metadata": {},
   "outputs": [],
   "source": [
    "event_id = \"\"\"\n",
    "CREATE INDEX event_id\n",
    "FOR (n:Event)\n",
    "ON (n.globalEventID)\n",
    "\"\"\""
   ]
  },
  {
   "attachments": {},
   "cell_type": "markdown",
   "metadata": {},
   "source": [
    "# Requêtes projet"
   ]
  },
  {
   "cell_type": "code",
   "execution_count": null,
   "metadata": {},
   "outputs": [],
   "source": [
    "# afficher le nombre d’articles/évènements qu’il y a eu pour chaque triplet (jour, pays de l’évènement, langue de l’article).\n",
    "q1 = \"\"\"\n",
    "MATCH (r:Resource)-[m:MENTIONS]->(e:Event)-[:TAKES_PLACE]->(c:Country)\n",
    "RETURN e.date AS jour,\n",
    "    c.name AS pays,\n",
    "    r.originalLanguage AS langue_article,\n",
    "    COUNT(DISTINCT(r)) AS nb_ressources,\n",
    "    COUNT(DISTINCT(e)) AS nb_event\n",
    "\"\"\"\n",
    "\n",
    "# pour un pays donné en paramètre, affichez les évènements qui y ont eu place triées par le nombre de mentions (tri décroissant);\n",
    "# permettez une agrégation par jour/mois/année\n",
    "\n",
    "q2 = \"\"\"\n",
    "MATCH p = (russia:Country {{name:{country}}})<-[:TAKES_PLACE]-(e:Event)<-[m:MENTIONS]-()\n",
    "RETURN \tm.date.year AS Year, m.date.month AS Month, m.date.day AS Day, e.globalEventID AS Event, COUNT(m) AS nb_mention\n",
    "ORDER BY nb_mention DESC\n",
    "\"\"\"\n",
    "\n",
    "# pour une source de donnés passée en paramètre (gkg.SourceCommonName)\n",
    "# affichez les thèmes, personnes, lieux dont les articles de cette sources parlent\n",
    "# ainsi que le nombre d’articles et le ton moyen des articles (pour chaque thème/personne/lieu);\n",
    "# permettez une agrégation par jour/mois/année.\n",
    "\n",
    "q3 = \"\"\"\n",
    "MATCH (s:Source {{name:{source_name}}})-[:PUBLISH]->(r:Resource)-[:MENTIONS]->(e:Event)<-[:ACTS_IN]-(a),\n",
    "(e)-[:TAKES_PLACE]->(c:Country),\n",
    "(r)-[:HAS]->(t)\n",
    "RETURN r.date.year AS Year, \n",
    "        r.date.month AS Month, \n",
    "        r.date.day AS Day,\n",
    "        t.name AS Theme, \n",
    "        a.name AS Personne, \n",
    "        c.name AS Pays, \n",
    "        COUNT(r) AS nb_article, \n",
    "        AVG(r.tone) AS ton_moyen\n",
    "ORDER BY ton_moyen DESC\n",
    "\"\"\"\n",
    "\n",
    "q3_viz = \"\"\"\n",
    "MATCH (s:Source {{name:{source_name}}})-[:PUBLISH]->(r:Resource)-[:MENTIONS]->(e:Event)<-[:ACTS_IN]-(),\n",
    "(e)-[:TAKES_PLACE]->(c:Country),\n",
    "(r)-[:HAS]->(t)\n",
    "RETURN *, COUNT(e)\n",
    "\"\"\"\n",
    "\n",
    "# étudiez l’évolution des relations entre deux pays (specifies en paramètre) au cours de l’année.\n",
    "# Vous pouvez vous baser sur la langue de l’article, le ton moyen des articles,\n",
    "# les themes plus souvent citées, les personalités ou tout element qui vous semble pertinent.\n",
    "\n",
    "q4 = \"\"\"\n",
    "MATCH (ukraine:Country {name:\"Ukraine\"})<-[t:TAKES_PLACE]-(e)<-[:MENTIONS]-(r),\n",
    "(russia:Country {name:\"Russia\"})<-[tr:TAKES_PLACE]-(er)<-[:MENTIONS]-(r),\n",
    "(a)-[:ACTS_IN]->(e),\n",
    "(ar)-[:ACTS_IN]->(er),\n",
    "(r)-[:has]->(t:Theme)\n",
    "RETURN ukraine.name AS country_1,\n",
    "        russia.name AS country_2,\n",
    "        r.date.year AS Year, \n",
    "        r.date.month AS Month, \n",
    "        r.date.day AS Day,\n",
    "        AVG(r.tone) AS avg_tone\n",
    "\"\"\""
   ]
  }
 ],
 "metadata": {
  "kernelspec": {
   "display_name": "Python 3",
   "language": "python",
   "name": "python3"
  },
  "language_info": {
   "codemirror_mode": {
    "name": "ipython",
    "version": 3
   },
   "file_extension": ".py",
   "mimetype": "text/x-python",
   "name": "python",
   "nbconvert_exporter": "python",
   "pygments_lexer": "ipython3",
   "version": "3.8.10"
  },
  "orig_nbformat": 4,
  "vscode": {
   "interpreter": {
    "hash": "916dbcbb3f70747c44a77c7bcd40155683ae19c65e1c03b4aa3499c5328201f1"
   }
  }
 },
 "nbformat": 4,
 "nbformat_minor": 2
}
